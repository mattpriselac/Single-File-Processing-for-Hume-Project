{
 "cells": [
  {
   "cell_type": "code",
   "execution_count": 1,
   "metadata": {},
   "outputs": [],
   "source": [
    "from functions_and_classes.classes import *\n",
    "import pandas as pd"
   ]
  },
  {
   "cell_type": "code",
   "execution_count": 2,
   "metadata": {},
   "outputs": [],
   "source": [
    "l_a_w_p = pd.read_csv('data/csvs/lit_a_w_p.csv', index_col=0)\n",
    "l_a_w_c = pd.read_csv('data/csvs/lit_a_w_c.csv', index_col=0)\n",
    "l_s_w_p = pd.read_csv('data/csvs/lit_s_w_p.csv', index_col=0)\n",
    "l_s_w_c = pd.read_csv('data/csvs/lit_s_w_c.csv', index_col=0)"
   ]
  },
  {
   "cell_type": "code",
   "execution_count": 3,
   "metadata": {},
   "outputs": [],
   "source": [
    "def df_cns(df_in,n_many_return=25):\n",
    "    n = min(n_many_return, int(df_in.count()))\n",
    "    zfilter = df_in['Score'] > 1\n",
    "    return df_in[zfilter].sort_values('Score', ascending=False)[:n]"
   ]
  },
  {
   "cell_type": "code",
   "execution_count": 7,
   "metadata": {},
   "outputs": [
    {
     "name": "stdout",
     "output_type": "stream",
     "text": [
      "App.20 165.467\n",
      "1.4.6.6 118.439\n",
      "1.4.6.4 107.94\n",
      "1.4.6.2 85.618\n",
      "1.4.6.16 85.564\n"
     ]
    }
   ],
   "source": [
    "testname = df_cns(l_a_w_p,5)\n",
    "for loc in testname.index:\n",
    "    print(loc, round(testname['Score'][loc],3))"
   ]
  },
  {
   "cell_type": "markdown",
   "metadata": {},
   "source": [
    "This function with these CSV files should be plenty to allow people to choose whatever depth of reading they want. I can give options to select the number of locations to be returned, aggressive or strict search conditions, and the type of location as chapter or paragarph. That can then generate a url of literature/loc_type/agg_strict/num_returns.\n"
   ]
  },
  {
   "cell_type": "markdown",
   "metadata": {},
   "source": [
    "The other content that I'd like to do is the citation level data where I import each strict or agg citation csv from each paper, create a data object that has the paragraph or chapter, the score contributed by the article, and all the bibliographic information. I can just keep these four csvs up to date."
   ]
  },
  {
   "cell_type": "code",
   "execution_count": 4,
   "metadata": {},
   "outputs": [],
   "source": [
    "import json\n",
    "import csv"
   ]
  },
  {
   "cell_type": "code",
   "execution_count": 5,
   "metadata": {},
   "outputs": [],
   "source": [
    "from data.jsons import json_list"
   ]
  },
  {
   "cell_type": "code",
   "execution_count": 6,
   "metadata": {},
   "outputs": [],
   "source": [
    "from functions_and_classes.paper_io import *"
   ]
  },
  {
   "cell_type": "code",
   "execution_count": 82,
   "metadata": {},
   "outputs": [
    {
     "name": "stdout",
     "output_type": "stream",
     "text": [
      "done generating all the csvs for tableau!\n"
     ]
    }
   ],
   "source": [
    "header_row = [\"Location\", \"Score\", \"Author\", \"Title\", \"Year\"]\n",
    "agg_para = open(\"data/agg_para_tableau.csv\", 'w')\n",
    "ap_csv = csv.writer(agg_para)\n",
    "ap_csv.writerow(header_row)\n",
    "agg_chap = open(\"data/agg_chap_tableau.csv\", 'w')\n",
    "ac_csv = csv.writer(agg_chap)\n",
    "ac_csv.writerow(header_row)\n",
    "strict_chap = open(\"data/strict_chap_tableau.csv\", 'w')\n",
    "sc_csv = csv.writer(strict_chap)\n",
    "sc_csv.writerow(header_row)\n",
    "strict_para = open(\"data/strict_para_tableau.csv\", 'w')\n",
    "sp_csv = csv.writer(strict_para)\n",
    "sp_csv.writerow(header_row)\n",
    "\n",
    "for file in json_list:\n",
    "    filepath = 'data/jsons/'+file\n",
    "    jf = open(filepath,'r')\n",
    "    jd = json.load(jf)\n",
    "    jf.close()\n",
    "    paper = p_from_dict(jd)\n",
    " \n",
    "\n",
    "    if paper.totalStrictCites > 0:\n",
    "        for para in paper.s_w_p:\n",
    "            if paper.s_w_p[para] > 0:\n",
    "                sp_row = []\n",
    "                sp_row.append(para)\n",
    "                sp_row.append(round(paper.s_w_p[para],3))\n",
    "                sp_row.append(paper.biblio['Author'])\n",
    "                sp_row.append(paper.biblio['Title of Work'])\n",
    "                sp_row.append(int(paper.biblio['Year']))\n",
    "                sp_csv.writerow(sp_row)\n",
    "        for chap in paper.s_w_c:\n",
    "            if paper.s_w_c[chap] > 0:\n",
    "                sc_row = []\n",
    "                sc_row.append(chap)\n",
    "                sc_row.append(round(paper.s_w_c[chap],3))\n",
    "                sc_row.append(paper.biblio['Author'])\n",
    "                sc_row.append(paper.biblio['Title of Work'])\n",
    "                sc_row.append(int(paper.biblio['Year']))\n",
    "                sc_csv.writerow(sc_row)\n",
    "        \n",
    "    if paper.totalAggressiveCites > 0:\n",
    "        for para in paper.a_w_p:\n",
    "            if paper.a_w_p[para] > 0:\n",
    "                ap_row = []\n",
    "                ap_row.append(para)\n",
    "                ap_row.append(round(paper.a_w_p[para],3))\n",
    "                ap_row.append(paper.biblio['Author'])\n",
    "                ap_row.append(paper.biblio['Title of Work'])\n",
    "                ap_row.append(int(paper.biblio['Year']))\n",
    "                ap_csv.writerow(ap_row)\n",
    "                \n",
    "        for chap in paper.a_w_c:\n",
    "            if paper.a_w_c[chap] > 0:\n",
    "                ac_row = []\n",
    "                ac_row.append(chap)\n",
    "                ac_row.append(round(paper.a_w_c[chap],3))\n",
    "                ac_row.append(paper.biblio['Author'])\n",
    "                ac_row.append(paper.biblio['Title of Work'])\n",
    "                ac_row.append(int(paper.biblio['Year']))\n",
    "                ac_csv.writerow(ac_row)\n",
    "\n",
    "agg_para.close()\n",
    "agg_chap.close()\n",
    "strict_chap.close()\n",
    "strict_para.close()\n",
    "print('done generating all the csvs for tableau!')"
   ]
  },
  {
   "cell_type": "code",
   "execution_count": 7,
   "metadata": {},
   "outputs": [],
   "source": [
    "tpath = open('data/jsons/533Cottrell.json')\n",
    "tp = p_from_dict(json.load(tpath))"
   ]
  },
  {
   "cell_type": "code",
   "execution_count": 10,
   "metadata": {},
   "outputs": [
    {
     "data": {
      "text/plain": [
       "0.25"
      ]
     },
     "execution_count": 10,
     "metadata": {},
     "output_type": "execute_result"
    }
   ],
   "source": [
    "tp.a_w_p['3.1.1.1']"
   ]
  },
  {
   "cell_type": "code",
   "execution_count": 74,
   "metadata": {},
   "outputs": [
    {
     "data": {
      "text/plain": [
       "['1.1.1',\n",
       " 10.836,\n",
       " 'Cottrell, Jonathan',\n",
       " \"Minds, Composition, and Hume's Skepticism in the Appendix\",\n",
       " 2015]"
      ]
     },
     "execution_count": 74,
     "metadata": {},
     "output_type": "execute_result"
    }
   ],
   "source": [
    "test_row = []\n",
    "test_row.append('1.1.1')\n",
    "test_row.append(round(tp.a_w_c['1.1.1'],3))\n",
    "test_row.append(tp.biblio['Author'])\n",
    "test_row.append(tp.biblio['Title of Work'])\n",
    "test_row.append(int(tp.biblio['Year']))\n",
    "test_row"
   ]
  },
  {
   "cell_type": "code",
   "execution_count": 12,
   "metadata": {},
   "outputs": [],
   "source": [
    "tc = open('data/treatise_chapters.csv', 'w')\n",
    "tc_writer = csv.writer(tc)\n",
    "header = ['Location']\n",
    "tc_writer.writerow(header)\n",
    "for chapter in tp.a_w_c.keys():\n",
    "    ch = [chapter]\n",
    "    tc_writer.writerow(ch)\n",
    "tc.close()\n",
    "\n",
    "trp = open('data/treatise_para.csv', 'w')\n",
    "tp_writer = csv.writer(trp)\n",
    "h2 = ['Location']\n",
    "tp_writer.writerow(h2)\n",
    "for para in tp.a_w_p.keys():\n",
    "    p = [para]\n",
    "    tp_writer.writerow(p)\n",
    "trp.close()\n",
    "    "
   ]
  },
  {
   "cell_type": "code",
   "execution_count": null,
   "metadata": {},
   "outputs": [],
   "source": []
  }
 ],
 "metadata": {
  "kernelspec": {
   "display_name": "Python 3",
   "language": "python",
   "name": "python3"
  },
  "language_info": {
   "codemirror_mode": {
    "name": "ipython",
    "version": 3
   },
   "file_extension": ".py",
   "mimetype": "text/x-python",
   "name": "python",
   "nbconvert_exporter": "python",
   "pygments_lexer": "ipython3",
   "version": "3.8.2"
  }
 },
 "nbformat": 4,
 "nbformat_minor": 4
}
