{
 "cells": [
  {
   "cell_type": "code",
   "execution_count": null,
   "metadata": {},
   "outputs": [],
   "source": [
    "#the idea here is to get practice working with JSON files and generating data etc. from them."
   ]
  },
  {
   "cell_type": "markdown",
   "metadata": {},
   "source": [
    "To process an entire paper, all I need to do is use the following import:\n",
    "\n",
    "from functions_and_classes.paper_processing import process_and_score_paper as psp\n",
    "\n"
   ]
  },
  {
   "cell_type": "code",
   "execution_count": null,
   "metadata": {},
   "outputs": [],
   "source": [
    "from data.txts import txt_list\n",
    "from data.csvs import csv_list\n",
    "from data.jsons import json_list"
   ]
  },
  {
   "cell_type": "code",
   "execution_count": null,
   "metadata": {},
   "outputs": [],
   "source": [
    "print(len(txt_list))\n",
    "print(len(csv_list))\n",
    "print(len(json_list))\n"
   ]
  },
  {
   "cell_type": "code",
   "execution_count": null,
   "metadata": {},
   "outputs": [],
   "source": [
    "from data import txt_dir\n",
    "from data import json_dir\n",
    "from data import csv_dir"
   ]
  },
  {
   "cell_type": "code",
   "execution_count": null,
   "metadata": {},
   "outputs": [],
   "source": [
    "print(txt_dir)\n",
    "print(json_dir)\n",
    "print(csv_dir)"
   ]
  },
  {
   "cell_type": "code",
   "execution_count": null,
   "metadata": {},
   "outputs": [],
   "source": [
    "from functions_and_classes.paper_processing import process_and_score_paper as psp"
   ]
  },
  {
   "cell_type": "code",
   "execution_count": null,
   "metadata": {},
   "outputs": [],
   "source": [
    "tp = psp('533Cottrell')"
   ]
  },
  {
   "cell_type": "code",
   "execution_count": null,
   "metadata": {},
   "outputs": [],
   "source": [
    "tp.s_w_c['1.4.6']"
   ]
  },
  {
   "cell_type": "markdown",
   "metadata": {},
   "source": [
    "So, those three imports alone are capable of processing a paper by putting in its file name (with no .txt and no directory), scoring the file and pairing it with the relevant bibliographic information."
   ]
  },
  {
   "cell_type": "code",
   "execution_count": null,
   "metadata": {},
   "outputs": [],
   "source": [
    "from functions_and_classes.lit_level_operations import lit_scores_from_jsons"
   ]
  },
  {
   "cell_type": "code",
   "execution_count": null,
   "metadata": {},
   "outputs": [],
   "source": [
    "ls = lit_scores_from_jsons()"
   ]
  },
  {
   "cell_type": "code",
   "execution_count": null,
   "metadata": {},
   "outputs": [],
   "source": [
    "ls['lit_s_w_c']['1.1.1']"
   ]
  },
  {
   "cell_type": "code",
   "execution_count": null,
   "metadata": {},
   "outputs": [],
   "source": [
    "from functions_and_classes.lit_level_operations import pd_to_csv, cd_to_csv"
   ]
  },
  {
   "cell_type": "code",
   "execution_count": null,
   "metadata": {},
   "outputs": [],
   "source": [
    "from functions_and_classes.lit_level_operations import lit_to_csv"
   ]
  },
  {
   "cell_type": "code",
   "execution_count": null,
   "metadata": {},
   "outputs": [],
   "source": [
    "lit_to_csv(ls)"
   ]
  },
  {
   "cell_type": "code",
   "execution_count": null,
   "metadata": {},
   "outputs": [],
   "source": [
    "import pandas as pd"
   ]
  },
  {
   "cell_type": "code",
   "execution_count": null,
   "metadata": {},
   "outputs": [],
   "source": [
    "from functions_and_classes.comparisons import s_l_p, a_l_p, s_l_c, a_l_c"
   ]
  },
  {
   "cell_type": "code",
   "execution_count": null,
   "metadata": {},
   "outputs": [],
   "source": [
    "from functions_and_classes.comparisons import updateSLCcomps, updateALCcomps, updateSLPcomps, updateALPcomps"
   ]
  },
  {
   "cell_type": "markdown",
   "metadata": {},
   "source": [
    "Everything below here is basically just to manually update the comparison spreadsheets in a one time way to include the cite counts for each file. each time the update functions are run in the future they'll automatically take care of this information."
   ]
  },
  {
   "cell_type": "code",
   "execution_count": null,
   "metadata": {},
   "outputs": [],
   "source": [
    "tSLCcomp = pd.read_csv('data/s_l_c_comp.csv', index_col=0)\n",
    "tALCcomp = pd.read_csv('data/a_l_c_comp.csv', index_col=0)\n",
    "tSLPcomp = pd.read_csv('data/s_l_p_comp.csv', index_col=0)\n",
    "tALPcomp = pd.read_csv('data/a_l_p_comp.csv', index_col=0)"
   ]
  },
  {
   "cell_type": "code",
   "execution_count": null,
   "metadata": {},
   "outputs": [],
   "source": [
    "import json"
   ]
  },
  {
   "cell_type": "code",
   "execution_count": null,
   "metadata": {},
   "outputs": [],
   "source": [
    "strict_cite_count = {}\n",
    "agg_cite_count = {}\n",
    "for file in json_list:\n",
    "    fp = json_dir+file\n",
    "    jfile = open(fp, 'r')\n",
    "    jd = json.load(jfile)\n",
    "    strict_cite_count[jd['name']] = jd['totalStrictCites']\n",
    "    agg_cite_count[jd['name']] = jd['totalAggressiveCites']\n",
    "scc_df = pd.DataFrame.from_dict(strict_cite_count, orient='index', columns=['totalStrictCites'])\n",
    "agg_df = pd.DataFrame.from_dict(agg_cite_count, orient='index', columns=['totalAggressiveCites'])\n",
    "total_strict_cites = scc_df['totalStrictCites'].sum()\n",
    "total_agg_cites = agg_df['totalAggressiveCites'].sum()\n",
    "lit_scc = pd.DataFrame([total_strict_cites], index=['Literature'], columns=['totalStrictCites'])\n",
    "scc_df = scc_df.append(lit_scc)\n",
    "lit_agg = pd.DataFrame([total_agg_cites], index=['Literature'], columns=['totalAggressiveCites'])\n",
    "agg_df = agg_df.append(lit_agg)"
   ]
  },
  {
   "cell_type": "code",
   "execution_count": null,
   "metadata": {},
   "outputs": [],
   "source": [
    "tSLPcomp = pd.merge(tSLPcomp, scc_df, left_index=True, right_index=True)\n",
    "tSLPcomp.to_csv('data/s_l_p_comp.csv')\n",
    "tALPcomp = pd.merge(tALPcomp, agg_df, left_index=True, right_index=True)\n",
    "tALPcomp.to_csv('data/a_l_p_comp.csv')\n",
    "tSLCcomp = pd.merge(tSLCcomp, scc_df, left_index=True, right_index=True)\n",
    "tSLCcomp.to_csv('data/s_l_c_comp.csv')\n",
    "tALCcomp = pd.merge(tALCcomp, agg_df, left_index=True, right_index=True)\n",
    "tALCcomp.to_csv('data/a_l_c_comp.csv')"
   ]
  },
  {
   "cell_type": "code",
   "execution_count": 2,
   "metadata": {},
   "outputs": [],
   "source": [
    "from data import a_l_p_comp, a_l_c_comp, s_l_p_comp, s_l_c_comp"
   ]
  },
  {
   "cell_type": "code",
   "execution_count": null,
   "metadata": {},
   "outputs": [],
   "source": [
    "#starting to work towards a function that will return\n",
    "def sim_list(filename, a_or_s, p_or_c, min_list_len):\n",
    "    if a_or_s == 'a':\n",
    "        if p_or_c == 'p':\n",
    "            df = a_l_p_comp\n",
    "        elif p_or_c == 'c'\n",
    "            df = a_l_c_comp\n",
    "        else:\n",
    "            print('Your third function input must be \"p\" or \"c\")\n",
    "    elif a_or_s == 's': \n",
    "        if p_or_c == 'p':\n",
    "            df = s_l_p_comp\n",
    "        elif p_or_c == 'c':\n",
    "            df = s_l_c_comp\n",
    "        else:\n",
    "            print('Your third function input must be \"p\" or \"c\")\n",
    "    else:\n",
    "        print('Your second function input must be \"a\" or \"s\"')\n",
    "\n",
    "def s_l_c_simlist(filename, min_list_len):\n",
    "    df = pd.merge(s_l_c_comp[filename], s_l_c_comp['totalStrictCites'], left_index=True, right_index=True)\n",
    "    df[]\n",
    "        \n",
    "    "
   ]
  },
  {
   "cell_type": "code",
   "execution_count": null,
   "metadata": {},
   "outputs": [],
   "source": [
    "t_df = pd.merge(s_l_c_comp['Literature'], s_l_c_comp['totalStrictCites'], left_index=True, right_index=True)"
   ]
  },
  {
   "cell_type": "code",
   "execution_count": null,
   "metadata": {},
   "outputs": [],
   "source": [
    "def n_strict_filter(df_in, num):\n",
    "    return df_in['totalStrictCites'] > num"
   ]
  },
  {
   "cell_type": "code",
   "execution_count": null,
   "metadata": {},
   "outputs": [],
   "source": [
    "def m_strict_similar(filename, min_cites, min_similar, df_in):\n",
    "    min_cit = max(0,min_cites)\n",
    "    min_c = n_strict_filter(df_in, min_cit)\n",
    "    min_si = min(min_similar,len(df_in[min_c].index)-1)\n",
    "    sim_score_to_beat = 1.05 * df_in[min_c].sort_values(filename)[min_si:min_si+1][filename].values[0]\n",
    "    score_to_beat_filter = df_in[min_c][filename] <= sim_score_to_beat\n",
    "\n",
    "    return df_in[min_c][score_to_beat_filter].sort_values(filename)\n",
    "    "
   ]
  },
  {
   "cell_type": "code",
   "execution_count": null,
   "metadata": {},
   "outputs": [],
   "source": [
    "def s_l_c_comp_process(file, minimum_comp_cites, minimum_sim_comps):\n",
    "    df = pd.merge(s_l_c_comp[file], s_l_c_comp['totalStrictCites'], left_index=True, right_index=True)\n",
    "    return m_strict_similar(file, minimum_comp_cites, minimum_sim_comps, df)[1:]\n",
    "\n",
    "def s_l_p_comp_process(file, minimum_comp_cites, minimum_sim_comps):\n",
    "    df = pd.merge(s_l_p_comp[file], s_l_p_comp['totalStrictCites'], left_index=True, right_index=True)\n",
    "    return m_strict_similar(file, minimum_comp_cites, minimum_sim_comps, df)[1:]"
   ]
  },
  {
   "cell_type": "code",
   "execution_count": null,
   "metadata": {},
   "outputs": [],
   "source": [
    "s_l_p_comp_process('strawson-evident-connexion', 5, 5)"
   ]
  },
  {
   "cell_type": "code",
   "execution_count": null,
   "metadata": {},
   "outputs": [],
   "source": [
    "def n_agg_filter(df_in, num):\n",
    "    return df_in['totalAggressiveCites'] > num\n",
    "\n",
    "def m_agg_similar(filename, min_cites, min_similar, df_in):\n",
    "    min_cit = max(0,min_cites)\n",
    "    min_c = n_agg_filter(df_in, min_cit)\n",
    "    min_si = min(min_similar,len(df_in[min_c].index)-1)\n",
    "    sim_score_to_beat = 1.05 * df_in[min_c].sort_values(filename)[min_si:min_si+1][filename].values[0]\n",
    "    score_to_beat_filter = df_in[min_c][filename] <= sim_score_to_beat\n",
    "\n",
    "    return df_in[min_c][score_to_beat_filter].sort_values(filename)\n",
    "\n",
    "def a_l_c_comp_process(file, minimum_comp_cites, minimum_sim_comps):\n",
    "    df = pd.merge(a_l_c_comp[file], a_l_c_comp['totalAggressiveCites'], left_index=True, right_index=True)\n",
    "    return m_agg_similar(file, minimum_comp_cites, minimum_sim_comps, df)[1:]\n",
    "\n",
    "def a_l_p_comp_process(file, minimum_comp_cites, minimum_sim_comps):\n",
    "    df = pd.merge(a_l_p_comp[file], a_l_p_comp['totalAggressiveCites'], left_index=True, right_index=True)\n",
    "    return m_agg_similar(file, minimum_comp_cites, minimum_sim_comps, df)[1:]"
   ]
  },
  {
   "cell_type": "code",
   "execution_count": null,
   "metadata": {},
   "outputs": [],
   "source": [
    "a_l_c_comp_process('Literature',5,5)['Literature'].plot.bar()"
   ]
  },
  {
   "cell_type": "code",
   "execution_count": null,
   "metadata": {},
   "outputs": [],
   "source": [
    "s_l_c_comp_process('Literature', 10, 99)['Literature'].plot.bar()"
   ]
  },
  {
   "cell_type": "code",
   "execution_count": null,
   "metadata": {},
   "outputs": [],
   "source": [
    "a_l_p_comp_process('Literature', 10, 99)['Literature'].plot.bar()"
   ]
  },
  {
   "cell_type": "code",
   "execution_count": null,
   "metadata": {},
   "outputs": [],
   "source": [
    "s_l_p_comp_process('Literature', 10, 99)['Literature'].plot.bar()"
   ]
  },
  {
   "cell_type": "markdown",
   "metadata": {},
   "source": [
    "OK so far then i have functions that can handle each of the 4 types of comp data across s/a, p/c and take as optional inputs the numbers of cites in the comparison data and the minimum number of comps to return.\n",
    "\n",
    "i think what i need to do is to make the num of cites and the min num of comps to return optional and specifiable with kws with default arguments of 1 for the min num of cites and 100 for the num num of comps. that way the default will pull the entire body (maybe display in groups of 20 at a time).\n",
    "\n",
    "then i'll want to convert or actually just add on the paper title as a column the paper title attached to the file name for display purposes. I think it'd be good to add that on at the stage i'm attaching total cite counts. add an author and title column when i pull those from the json files and add them as columns to the intermeidate little df i merge with the comparative scores.\n",
    "\n",
    "then it would be good to wrap all of this inside a function that takes a/s and c/p as parameters and calls the right function of these four i've developed based on the a/s and c/p parameters passed into the function."
   ]
  },
  {
   "cell_type": "code",
   "execution_count": null,
   "metadata": {},
   "outputs": [],
   "source": [
    "def article_comps(filename, min_num_cites=1, min_num_comps=100, a_or_s=\"a\", p_or_c=\"p\"):\n",
    "    if a_or_s == \"a\":\n",
    "        if p_or_c == \"p\":\n",
    "            return a_l_p_comp_process(filename, minimum_comp_cites=min_num_cites, minimum_sim_comps=min_num_comps)\n",
    "        elif p_or_c == \"c\":\n",
    "            return a_l_c_comp_process(filename, minimum_comp_cites=min_num_cites, minimum_sim_comps=min_num_comps)\n",
    "        else:\n",
    "            return print('be sure to choose \"p\" or \"c\" for the p_or_c argument')\n",
    "    elif a_or_s == \"s\":\n",
    "        if p_or_c == \"p\":\n",
    "            return s_l_p_comp_process(filename, minimum_comp_cites=min_num_cites, minimum_sim_comps=min_num_comps)\n",
    "        elif p_or_c == \"c\":\n",
    "            return s_l_c_comp_process(filename, minimum_comp_cites=min_num_cites, minimum_sim_comps=min_num_comps)\n",
    "        else:\n",
    "            return print('be sure to choose \"p\" or \"c\" for the p_or_c argument')       \n",
    "    else: \n",
    "        return print('be sure to choose \"a\" or \"s\" for the a_or_s argument')"
   ]
  },
  {
   "cell_type": "code",
   "execution_count": null,
   "metadata": {},
   "outputs": [],
   "source": [
    "article_comps('533Cottrell', a_or_s=\"s\", p_or_c=\"c\")"
   ]
  },
  {
   "cell_type": "code",
   "execution_count": 1,
   "metadata": {},
   "outputs": [],
   "source": [
    "from functions_and_classes.comparisons import article_comps"
   ]
  },
  {
   "cell_type": "code",
   "execution_count": 2,
   "metadata": {},
   "outputs": [
    {
     "data": {
      "text/html": [
       "<div>\n",
       "<style scoped>\n",
       "    .dataframe tbody tr th:only-of-type {\n",
       "        vertical-align: middle;\n",
       "    }\n",
       "\n",
       "    .dataframe tbody tr th {\n",
       "        vertical-align: top;\n",
       "    }\n",
       "\n",
       "    .dataframe thead th {\n",
       "        text-align: right;\n",
       "    }\n",
       "</style>\n",
       "<table border=\"1\" class=\"dataframe\">\n",
       "  <thead>\n",
       "    <tr style=\"text-align: right;\">\n",
       "      <th></th>\n",
       "      <th>533Cottrell</th>\n",
       "      <th>totalStrictCites</th>\n",
       "    </tr>\n",
       "  </thead>\n",
       "  <tbody>\n",
       "    <tr>\n",
       "      <th>acpq_1995_0069_0003_0485_0501&amp;pdfname=acpq_1995_0069_0003_0091_0107</th>\n",
       "      <td>67.529471</td>\n",
       "      <td>29</td>\n",
       "    </tr>\n",
       "    <tr>\n",
       "      <th>acprof-9780199229505-chapter-6</th>\n",
       "      <td>81.108356</td>\n",
       "      <td>51</td>\n",
       "    </tr>\n",
       "    <tr>\n",
       "      <th>1173636</th>\n",
       "      <td>86.036092</td>\n",
       "      <td>102</td>\n",
       "    </tr>\n",
       "    <tr>\n",
       "      <th>1173780</th>\n",
       "      <td>88.218218</td>\n",
       "      <td>60</td>\n",
       "    </tr>\n",
       "    <tr>\n",
       "      <th>strawson-evident-connexion</th>\n",
       "      <td>88.680060</td>\n",
       "      <td>330</td>\n",
       "    </tr>\n",
       "    <tr>\n",
       "      <th>27745095</th>\n",
       "      <td>89.743717</td>\n",
       "      <td>64</td>\n",
       "    </tr>\n",
       "    <tr>\n",
       "      <th>Literature</th>\n",
       "      <td>91.534705</td>\n",
       "      <td>2622</td>\n",
       "    </tr>\n",
       "    <tr>\n",
       "      <th>project_muse_553401</th>\n",
       "      <td>96.278860</td>\n",
       "      <td>145</td>\n",
       "    </tr>\n",
       "    <tr>\n",
       "      <th>project_muse_439820</th>\n",
       "      <td>110.332592</td>\n",
       "      <td>25</td>\n",
       "    </tr>\n",
       "    <tr>\n",
       "      <th>Levin2007_Article_BundlingHumeWithKripkenstein</th>\n",
       "      <td>110.440354</td>\n",
       "      <td>4</td>\n",
       "    </tr>\n",
       "    <tr>\n",
       "      <th>project_muse_383238</th>\n",
       "      <td>115.687889</td>\n",
       "      <td>48</td>\n",
       "    </tr>\n",
       "    <tr>\n",
       "      <th>Projection and Realism in Hume's Philosophy coventry review</th>\n",
       "      <td>115.858778</td>\n",
       "      <td>7</td>\n",
       "    </tr>\n",
       "    <tr>\n",
       "      <th>project_muse_391081</th>\n",
       "      <td>119.107505</td>\n",
       "      <td>42</td>\n",
       "    </tr>\n",
       "    <tr>\n",
       "      <th>41441496</th>\n",
       "      <td>121.010826</td>\n",
       "      <td>26</td>\n",
       "    </tr>\n",
       "    <tr>\n",
       "      <th>9780470776377.ch8</th>\n",
       "      <td>121.408329</td>\n",
       "      <td>61</td>\n",
       "    </tr>\n",
       "    <tr>\n",
       "      <th>project_muse_382933</th>\n",
       "      <td>123.451258</td>\n",
       "      <td>18</td>\n",
       "    </tr>\n",
       "    <tr>\n",
       "      <th>project_muse_227867</th>\n",
       "      <td>123.731704</td>\n",
       "      <td>39</td>\n",
       "    </tr>\n",
       "    <tr>\n",
       "      <th>31448-231447-1-PB</th>\n",
       "      <td>125.775719</td>\n",
       "      <td>45</td>\n",
       "    </tr>\n",
       "    <tr>\n",
       "      <th>ContentServer.asp-4</th>\n",
       "      <td>127.938847</td>\n",
       "      <td>17</td>\n",
       "    </tr>\n",
       "    <tr>\n",
       "      <th>out</th>\n",
       "      <td>128.861572</td>\n",
       "      <td>184</td>\n",
       "    </tr>\n",
       "    <tr>\n",
       "      <th>07.0_pp_177_208_Hume_and_the_Problem_of_Personal_Identity</th>\n",
       "      <td>130.035502</td>\n",
       "      <td>92</td>\n",
       "    </tr>\n",
       "    <tr>\n",
       "      <th>2184977</th>\n",
       "      <td>134.413115</td>\n",
       "      <td>19</td>\n",
       "    </tr>\n",
       "    <tr>\n",
       "      <th>Kail-2008-European_Journal_of_Philosophy</th>\n",
       "      <td>136.794069</td>\n",
       "      <td>34</td>\n",
       "    </tr>\n",
       "    <tr>\n",
       "      <th>ROCHAT-4v1</th>\n",
       "      <td>137.654678</td>\n",
       "      <td>102</td>\n",
       "    </tr>\n",
       "    <tr>\n",
       "      <th>WINKLER-2010-Philosophical_Books</th>\n",
       "      <td>139.975395</td>\n",
       "      <td>18</td>\n",
       "    </tr>\n",
       "    <tr>\n",
       "      <th>1173637</th>\n",
       "      <td>141.136574</td>\n",
       "      <td>53</td>\n",
       "    </tr>\n",
       "    <tr>\n",
       "      <th>24439665</th>\n",
       "      <td>142.809811</td>\n",
       "      <td>13</td>\n",
       "    </tr>\n",
       "    <tr>\n",
       "      <th>rocknack-imagined-causes-ch-10</th>\n",
       "      <td>144.997863</td>\n",
       "      <td>210</td>\n",
       "    </tr>\n",
       "    <tr>\n",
       "      <th>project_muse_390704</th>\n",
       "      <td>147.507029</td>\n",
       "      <td>12</td>\n",
       "    </tr>\n",
       "    <tr>\n",
       "      <th>40232176</th>\n",
       "      <td>149.016875</td>\n",
       "      <td>60</td>\n",
       "    </tr>\n",
       "    <tr>\n",
       "      <th>2653404-2</th>\n",
       "      <td>149.487149</td>\n",
       "      <td>10</td>\n",
       "    </tr>\n",
       "    <tr>\n",
       "      <th>penelhum-themes-book</th>\n",
       "      <td>153.134499</td>\n",
       "      <td>70</td>\n",
       "    </tr>\n",
       "    <tr>\n",
       "      <th>thiel-early-modern-self-13-14</th>\n",
       "      <td>153.447388</td>\n",
       "      <td>16</td>\n",
       "    </tr>\n",
       "    <tr>\n",
       "      <th>project_muse_388506</th>\n",
       "      <td>156.505167</td>\n",
       "      <td>22</td>\n",
       "    </tr>\n",
       "    <tr>\n",
       "      <th>ipq_2004_0044_0002_0276_0278&amp;pdfname=ipq_2004_0044_0002_0134_0136</th>\n",
       "      <td>158.397687</td>\n",
       "      <td>5</td>\n",
       "    </tr>\n",
       "    <tr>\n",
       "      <th>project_muse_403836</th>\n",
       "      <td>158.562680</td>\n",
       "      <td>48</td>\n",
       "    </tr>\n",
       "    <tr>\n",
       "      <th>project_muse_596651</th>\n",
       "      <td>158.850350</td>\n",
       "      <td>69</td>\n",
       "    </tr>\n",
       "    <tr>\n",
       "      <th>project_muse_388443</th>\n",
       "      <td>159.453586</td>\n",
       "      <td>32</td>\n",
       "    </tr>\n",
       "    <tr>\n",
       "      <th>20532746</th>\n",
       "      <td>161.106498</td>\n",
       "      <td>22</td>\n",
       "    </tr>\n",
       "    <tr>\n",
       "      <th>project_muse_388510</th>\n",
       "      <td>164.894952</td>\n",
       "      <td>15</td>\n",
       "    </tr>\n",
       "    <tr>\n",
       "      <th>project_muse_228761</th>\n",
       "      <td>168.299275</td>\n",
       "      <td>20</td>\n",
       "    </tr>\n",
       "    <tr>\n",
       "      <th>1173639</th>\n",
       "      <td>169.668391</td>\n",
       "      <td>21</td>\n",
       "    </tr>\n",
       "    <tr>\n",
       "      <th>project_muse_388507</th>\n",
       "      <td>173.249574</td>\n",
       "      <td>11</td>\n",
       "    </tr>\n",
       "    <tr>\n",
       "      <th>project_muse_383344</th>\n",
       "      <td>176.219754</td>\n",
       "      <td>14</td>\n",
       "    </tr>\n",
       "    <tr>\n",
       "      <th>ContentServer.asp-3</th>\n",
       "      <td>177.209813</td>\n",
       "      <td>6</td>\n",
       "    </tr>\n",
       "    <tr>\n",
       "      <th>Schwerin2012_Article_HumeOnTheSelf</th>\n",
       "      <td>178.199873</td>\n",
       "      <td>18</td>\n",
       "    </tr>\n",
       "    <tr>\n",
       "      <th>project_muse_388509</th>\n",
       "      <td>178.199873</td>\n",
       "      <td>3</td>\n",
       "    </tr>\n",
       "    <tr>\n",
       "      <th>20708617</th>\n",
       "      <td>182.160112</td>\n",
       "      <td>7</td>\n",
       "    </tr>\n",
       "    <tr>\n",
       "      <th>3327575</th>\n",
       "      <td>182.160112</td>\n",
       "      <td>3</td>\n",
       "    </tr>\n",
       "    <tr>\n",
       "      <th>Flage_et_al-1984-The_Southern_Journal_of_Philosophy</th>\n",
       "      <td>183.212267</td>\n",
       "      <td>17</td>\n",
       "    </tr>\n",
       "    <tr>\n",
       "      <th>2660181</th>\n",
       "      <td>192.079522</td>\n",
       "      <td>4</td>\n",
       "    </tr>\n",
       "    <tr>\n",
       "      <th>project_muse_382726</th>\n",
       "      <td>195.738839</td>\n",
       "      <td>51</td>\n",
       "    </tr>\n",
       "    <tr>\n",
       "      <th>10088-Texto del artículo-10169-1-10-20110601</th>\n",
       "      <td>200.000000</td>\n",
       "      <td>19</td>\n",
       "    </tr>\n",
       "  </tbody>\n",
       "</table>\n",
       "</div>"
      ],
      "text/plain": [
       "                                                    533Cottrell  \\\n",
       "acpq_1995_0069_0003_0485_0501&pdfname=acpq_1995...    67.529471   \n",
       "acprof-9780199229505-chapter-6                        81.108356   \n",
       "1173636                                               86.036092   \n",
       "1173780                                               88.218218   \n",
       "strawson-evident-connexion                            88.680060   \n",
       "27745095                                              89.743717   \n",
       "Literature                                            91.534705   \n",
       "project_muse_553401                                   96.278860   \n",
       "project_muse_439820                                  110.332592   \n",
       "Levin2007_Article_BundlingHumeWithKripkenstein       110.440354   \n",
       "project_muse_383238                                  115.687889   \n",
       "Projection and Realism in Hume's Philosophy cov...   115.858778   \n",
       "project_muse_391081                                  119.107505   \n",
       "41441496                                             121.010826   \n",
       "9780470776377.ch8                                    121.408329   \n",
       "project_muse_382933                                  123.451258   \n",
       "project_muse_227867                                  123.731704   \n",
       "31448-231447-1-PB                                    125.775719   \n",
       "ContentServer.asp-4                                  127.938847   \n",
       "out                                                  128.861572   \n",
       "07.0_pp_177_208_Hume_and_the_Problem_of_Persona...   130.035502   \n",
       "2184977                                              134.413115   \n",
       "Kail-2008-European_Journal_of_Philosophy             136.794069   \n",
       "ROCHAT-4v1                                           137.654678   \n",
       "WINKLER-2010-Philosophical_Books                     139.975395   \n",
       "1173637                                              141.136574   \n",
       "24439665                                             142.809811   \n",
       "rocknack-imagined-causes-ch-10                       144.997863   \n",
       "project_muse_390704                                  147.507029   \n",
       "40232176                                             149.016875   \n",
       "2653404-2                                            149.487149   \n",
       "penelhum-themes-book                                 153.134499   \n",
       "thiel-early-modern-self-13-14                        153.447388   \n",
       "project_muse_388506                                  156.505167   \n",
       "ipq_2004_0044_0002_0276_0278&pdfname=ipq_2004_0...   158.397687   \n",
       "project_muse_403836                                  158.562680   \n",
       "project_muse_596651                                  158.850350   \n",
       "project_muse_388443                                  159.453586   \n",
       "20532746                                             161.106498   \n",
       "project_muse_388510                                  164.894952   \n",
       "project_muse_228761                                  168.299275   \n",
       "1173639                                              169.668391   \n",
       "project_muse_388507                                  173.249574   \n",
       "project_muse_383344                                  176.219754   \n",
       "ContentServer.asp-3                                  177.209813   \n",
       "Schwerin2012_Article_HumeOnTheSelf                   178.199873   \n",
       "project_muse_388509                                  178.199873   \n",
       "20708617                                             182.160112   \n",
       "3327575                                              182.160112   \n",
       "Flage_et_al-1984-The_Southern_Journal_of_Philos...   183.212267   \n",
       "2660181                                              192.079522   \n",
       "project_muse_382726                                  195.738839   \n",
       "10088-Texto del artículo-10169-1-10-20110601        200.000000   \n",
       "\n",
       "                                                    totalStrictCites  \n",
       "acpq_1995_0069_0003_0485_0501&pdfname=acpq_1995...                29  \n",
       "acprof-9780199229505-chapter-6                                    51  \n",
       "1173636                                                          102  \n",
       "1173780                                                           60  \n",
       "strawson-evident-connexion                                       330  \n",
       "27745095                                                          64  \n",
       "Literature                                                      2622  \n",
       "project_muse_553401                                              145  \n",
       "project_muse_439820                                               25  \n",
       "Levin2007_Article_BundlingHumeWithKripkenstein                     4  \n",
       "project_muse_383238                                               48  \n",
       "Projection and Realism in Hume's Philosophy cov...                 7  \n",
       "project_muse_391081                                               42  \n",
       "41441496                                                          26  \n",
       "9780470776377.ch8                                                 61  \n",
       "project_muse_382933                                               18  \n",
       "project_muse_227867                                               39  \n",
       "31448-231447-1-PB                                                 45  \n",
       "ContentServer.asp-4                                               17  \n",
       "out                                                              184  \n",
       "07.0_pp_177_208_Hume_and_the_Problem_of_Persona...                92  \n",
       "2184977                                                           19  \n",
       "Kail-2008-European_Journal_of_Philosophy                          34  \n",
       "ROCHAT-4v1                                                       102  \n",
       "WINKLER-2010-Philosophical_Books                                  18  \n",
       "1173637                                                           53  \n",
       "24439665                                                          13  \n",
       "rocknack-imagined-causes-ch-10                                   210  \n",
       "project_muse_390704                                               12  \n",
       "40232176                                                          60  \n",
       "2653404-2                                                         10  \n",
       "penelhum-themes-book                                              70  \n",
       "thiel-early-modern-self-13-14                                     16  \n",
       "project_muse_388506                                               22  \n",
       "ipq_2004_0044_0002_0276_0278&pdfname=ipq_2004_0...                 5  \n",
       "project_muse_403836                                               48  \n",
       "project_muse_596651                                               69  \n",
       "project_muse_388443                                               32  \n",
       "20532746                                                          22  \n",
       "project_muse_388510                                               15  \n",
       "project_muse_228761                                               20  \n",
       "1173639                                                           21  \n",
       "project_muse_388507                                               11  \n",
       "project_muse_383344                                               14  \n",
       "ContentServer.asp-3                                                6  \n",
       "Schwerin2012_Article_HumeOnTheSelf                                18  \n",
       "project_muse_388509                                                3  \n",
       "20708617                                                           7  \n",
       "3327575                                                            3  \n",
       "Flage_et_al-1984-The_Southern_Journal_of_Philos...                17  \n",
       "2660181                                                            4  \n",
       "project_muse_382726                                               51  \n",
       "10088-Texto del artículo-10169-1-10-20110601                     19  "
      ]
     },
     "execution_count": 2,
     "metadata": {},
     "output_type": "execute_result"
    }
   ],
   "source": [
    "article_comps('533Cottrell', a_or_s=\"s\", p_or_c=\"c\")"
   ]
  },
  {
   "cell_type": "code",
   "execution_count": 4,
   "metadata": {},
   "outputs": [],
   "source": [
    "from data import a_l_p_comp, a_l_c_comp, s_l_p_comp, s_l_c_comp"
   ]
  },
  {
   "cell_type": "code",
   "execution_count": 6,
   "metadata": {},
   "outputs": [
    {
     "ename": "NameError",
     "evalue": "name 's_l_c_comp' is not defined",
     "output_type": "error",
     "traceback": [
      "\u001b[0;31m---------------------------------------------------------------------------\u001b[0m",
      "\u001b[0;31mNameError\u001b[0m                                 Traceback (most recent call last)",
      "\u001b[0;32m<ipython-input-6-279744f2e889>\u001b[0m in \u001b[0;36m<module>\u001b[0;34m\u001b[0m\n\u001b[0;32m----> 1\u001b[0;31m \u001b[0marticle_comps\u001b[0m\u001b[0;34m(\u001b[0m\u001b[0;34m'533Cottrell'\u001b[0m\u001b[0;34m,\u001b[0m \u001b[0ma_or_s\u001b[0m\u001b[0;34m=\u001b[0m\u001b[0;34m\"s\"\u001b[0m\u001b[0;34m,\u001b[0m \u001b[0mp_or_c\u001b[0m\u001b[0;34m=\u001b[0m\u001b[0;34m\"c\"\u001b[0m\u001b[0;34m)\u001b[0m\u001b[0;34m\u001b[0m\u001b[0;34m\u001b[0m\u001b[0m\n\u001b[0m",
      "\u001b[0;32m~/Single-File-Processing-for-Hume-Project/functions_and_classes/comparisons.py\u001b[0m in \u001b[0;36marticle_comps\u001b[0;34m(filename, min_num_cites, min_num_comps, a_or_s, p_or_c)\u001b[0m\n\u001b[1;32m    184\u001b[0m             \u001b[0;32mreturn\u001b[0m \u001b[0ms_l_p_comp_process\u001b[0m\u001b[0;34m(\u001b[0m\u001b[0mfilename\u001b[0m\u001b[0;34m,\u001b[0m \u001b[0mminimum_comp_cites\u001b[0m\u001b[0;34m=\u001b[0m\u001b[0mmin_num_cites\u001b[0m\u001b[0;34m,\u001b[0m \u001b[0mminimum_sim_comps\u001b[0m\u001b[0;34m=\u001b[0m\u001b[0mmin_num_comps\u001b[0m\u001b[0;34m)\u001b[0m\u001b[0;34m\u001b[0m\u001b[0;34m\u001b[0m\u001b[0m\n\u001b[1;32m    185\u001b[0m         \u001b[0;32melif\u001b[0m \u001b[0mp_or_c\u001b[0m \u001b[0;34m==\u001b[0m \u001b[0;34m\"c\"\u001b[0m\u001b[0;34m:\u001b[0m\u001b[0;34m\u001b[0m\u001b[0;34m\u001b[0m\u001b[0m\n\u001b[0;32m--> 186\u001b[0;31m             \u001b[0;32mreturn\u001b[0m \u001b[0ms_l_c_comp_process\u001b[0m\u001b[0;34m(\u001b[0m\u001b[0mfilename\u001b[0m\u001b[0;34m,\u001b[0m \u001b[0mminimum_comp_cites\u001b[0m\u001b[0;34m=\u001b[0m\u001b[0mmin_num_cites\u001b[0m\u001b[0;34m,\u001b[0m \u001b[0mminimum_sim_comps\u001b[0m\u001b[0;34m=\u001b[0m\u001b[0mmin_num_comps\u001b[0m\u001b[0;34m)\u001b[0m\u001b[0;34m\u001b[0m\u001b[0;34m\u001b[0m\u001b[0m\n\u001b[0m\u001b[1;32m    187\u001b[0m         \u001b[0;32melse\u001b[0m\u001b[0;34m:\u001b[0m\u001b[0;34m\u001b[0m\u001b[0;34m\u001b[0m\u001b[0m\n\u001b[1;32m    188\u001b[0m             \u001b[0;32mreturn\u001b[0m \u001b[0mprint\u001b[0m\u001b[0;34m(\u001b[0m\u001b[0;34m'be sure to choose \"p\" or \"c\" for the p_or_c argument'\u001b[0m\u001b[0;34m)\u001b[0m\u001b[0;34m\u001b[0m\u001b[0;34m\u001b[0m\u001b[0m\n",
      "\u001b[0;32m~/Single-File-Processing-for-Hume-Project/functions_and_classes/comparisons.py\u001b[0m in \u001b[0;36ms_l_c_comp_process\u001b[0;34m(file, minimum_comp_cites, minimum_sim_comps)\u001b[0m\n\u001b[1;32m    164\u001b[0m \u001b[0;34m\u001b[0m\u001b[0m\n\u001b[1;32m    165\u001b[0m \u001b[0;32mdef\u001b[0m \u001b[0ms_l_c_comp_process\u001b[0m\u001b[0;34m(\u001b[0m\u001b[0mfile\u001b[0m\u001b[0;34m,\u001b[0m \u001b[0mminimum_comp_cites\u001b[0m\u001b[0;34m,\u001b[0m \u001b[0mminimum_sim_comps\u001b[0m\u001b[0;34m)\u001b[0m\u001b[0;34m:\u001b[0m\u001b[0;34m\u001b[0m\u001b[0;34m\u001b[0m\u001b[0m\n\u001b[0;32m--> 166\u001b[0;31m     \u001b[0mdf\u001b[0m \u001b[0;34m=\u001b[0m \u001b[0mpd\u001b[0m\u001b[0;34m.\u001b[0m\u001b[0mmerge\u001b[0m\u001b[0;34m(\u001b[0m\u001b[0ms_l_c_comp\u001b[0m\u001b[0;34m[\u001b[0m\u001b[0mfile\u001b[0m\u001b[0;34m]\u001b[0m\u001b[0;34m,\u001b[0m \u001b[0ms_l_c_comp\u001b[0m\u001b[0;34m[\u001b[0m\u001b[0;34m'totalStrictCites'\u001b[0m\u001b[0;34m]\u001b[0m\u001b[0;34m,\u001b[0m \u001b[0mleft_index\u001b[0m\u001b[0;34m=\u001b[0m\u001b[0;32mTrue\u001b[0m\u001b[0;34m,\u001b[0m \u001b[0mright_index\u001b[0m\u001b[0;34m=\u001b[0m\u001b[0;32mTrue\u001b[0m\u001b[0;34m)\u001b[0m\u001b[0;34m\u001b[0m\u001b[0;34m\u001b[0m\u001b[0m\n\u001b[0m\u001b[1;32m    167\u001b[0m     \u001b[0;32mreturn\u001b[0m \u001b[0mm_strict_similar\u001b[0m\u001b[0;34m(\u001b[0m\u001b[0mfile\u001b[0m\u001b[0;34m,\u001b[0m \u001b[0mminimum_comp_cites\u001b[0m\u001b[0;34m,\u001b[0m \u001b[0mminimum_sim_comps\u001b[0m\u001b[0;34m,\u001b[0m \u001b[0mdf\u001b[0m\u001b[0;34m)\u001b[0m\u001b[0;34m[\u001b[0m\u001b[0;36m1\u001b[0m\u001b[0;34m:\u001b[0m\u001b[0;34m]\u001b[0m\u001b[0;34m\u001b[0m\u001b[0;34m\u001b[0m\u001b[0m\n\u001b[1;32m    168\u001b[0m \u001b[0;34m\u001b[0m\u001b[0m\n",
      "\u001b[0;31mNameError\u001b[0m: name 's_l_c_comp' is not defined"
     ]
    }
   ],
   "source": [
    "article_comps('533Cottrell', a_or_s=\"s\", p_or_c=\"c\")"
   ]
  },
  {
   "cell_type": "code",
   "execution_count": null,
   "metadata": {},
   "outputs": [],
   "source": []
  }
 ],
 "metadata": {
  "kernelspec": {
   "display_name": "Python 3",
   "language": "python",
   "name": "python3"
  },
  "language_info": {
   "codemirror_mode": {
    "name": "ipython",
    "version": 3
   },
   "file_extension": ".py",
   "mimetype": "text/x-python",
   "name": "python",
   "nbconvert_exporter": "python",
   "pygments_lexer": "ipython3",
   "version": "3.8.2"
  }
 },
 "nbformat": 4,
 "nbformat_minor": 4
}
