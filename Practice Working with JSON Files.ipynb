{
 "cells": [
  {
   "cell_type": "code",
   "execution_count": 1,
   "metadata": {},
   "outputs": [],
   "source": [
    "#the idea here is to get practice working with JSON files and generating data etc. from them."
   ]
  },
  {
   "cell_type": "code",
   "execution_count": 2,
   "metadata": {},
   "outputs": [],
   "source": [
    "from data.txts import txt_list\n",
    "from data.csvs import csv_list\n",
    "from data.jsons import json_list"
   ]
  },
  {
   "cell_type": "code",
   "execution_count": 3,
   "metadata": {},
   "outputs": [
    {
     "name": "stdout",
     "output_type": "stream",
     "text": [
      "102\n",
      "800\n",
      "101\n"
     ]
    }
   ],
   "source": [
    "print(len(txt_list))\n",
    "print(len(csv_list))\n",
    "print(len(json_list))\n"
   ]
  },
  {
   "cell_type": "code",
   "execution_count": 4,
   "metadata": {},
   "outputs": [],
   "source": [
    "from data import txt_dir\n",
    "from data import json_dir\n",
    "from data import csv_dir"
   ]
  },
  {
   "cell_type": "code",
   "execution_count": 5,
   "metadata": {},
   "outputs": [
    {
     "name": "stdout",
     "output_type": "stream",
     "text": [
      "data/txts/\n",
      "data/jsons/\n",
      "data/csvs/\n"
     ]
    }
   ],
   "source": [
    "print(txt_dir)\n",
    "print(json_dir)\n",
    "print(csv_dir)"
   ]
  },
  {
   "cell_type": "code",
   "execution_count": 6,
   "metadata": {},
   "outputs": [],
   "source": [
    "#now I should be able to read and write to json/txt/csv dirs while using functions in the function list\n"
   ]
  },
  {
   "cell_type": "code",
   "execution_count": 7,
   "metadata": {},
   "outputs": [],
   "source": [
    "#import classes"
   ]
  },
  {
   "cell_type": "code",
   "execution_count": 8,
   "metadata": {},
   "outputs": [],
   "source": [
    "#import up"
   ]
  },
  {
   "cell_type": "code",
   "execution_count": 9,
   "metadata": {},
   "outputs": [],
   "source": [
    "from functions_and_classes.paper_processing import process_and_score_paper as psp"
   ]
  },
  {
   "cell_type": "code",
   "execution_count": 10,
   "metadata": {},
   "outputs": [
    {
     "name": "stdout",
     "output_type": "stream",
     "text": [
      "533Cottrell processed\n",
      "i generated a key error when trying to find matching paragraphs\n",
      "i generated a key error when trying to find matching paragraphs\n",
      "i generated a key error when trying to find matching paragraphs\n",
      "i generated a key error when trying to find matching paragraphs\n",
      "i generated a key error when trying to find matching paragraphs\n",
      "i generated a key error when trying to find matching paragraphs\n",
      "i generated a key error when trying to find matching paragraphs\n",
      "i generated a key error when trying to find matching paragraphs\n",
      "i generated a key error when trying to find matching paragraphs\n",
      "i generated a key error when trying to find matching paragraphs\n",
      "i generated a key error when trying to find matching paragraphs\n",
      "i generated a key error when trying to find matching paragraphs\n",
      "i generated a key error when trying to find matching paragraphs\n",
      "i generated a key error when trying to find matching paragraphs\n",
      "i generated a key error when trying to find matching paragraphs\n",
      "i generated a key error when trying to find matching paragraphs\n",
      "i generated a key error when trying to find matching paragraphs\n",
      "i generated a key error when trying to find matching paragraphs\n",
      "i generated a key error when trying to find matching paragraphs\n",
      "i generated a key error when trying to find matching paragraphs\n",
      "i generated a key error when trying to find matching paragraphs\n",
      "i generated a key error when trying to find matching paragraphs\n",
      "i generated a key error when trying to find matching paragraphs\n",
      "i generated a key error when trying to find matching paragraphs\n",
      "i generated a key error when trying to find matching paragraphs\n",
      "i generated a key error when trying to find matching paragraphs\n",
      "i generated a key error when trying to find matching paragraphs\n",
      "i generated a key error when trying to find matching paragraphs\n",
      "i generated a key error when trying to find matching paragraphs\n",
      "i generated a key error when trying to find matching paragraphs\n",
      "finished setting scores for 533Cottrell\n"
     ]
    }
   ],
   "source": [
    "tp = psp('533Cottrell')"
   ]
  },
  {
   "cell_type": "code",
   "execution_count": 11,
   "metadata": {},
   "outputs": [
    {
     "data": {
      "text/plain": [
       "18.019"
      ]
     },
     "execution_count": 11,
     "metadata": {},
     "output_type": "execute_result"
    }
   ],
   "source": [
    "tp.s_w_c['1.4.6']"
   ]
  },
  {
   "cell_type": "markdown",
   "metadata": {},
   "source": [
    "So, those three imports alone are capable of processing a paper by putting in its file name (with no .txt and no directory), scoring the file and pairing it with the relevant bibliographic information."
   ]
  },
  {
   "cell_type": "code",
   "execution_count": 12,
   "metadata": {},
   "outputs": [
    {
     "data": {
      "text/plain": [
       "['project_muse_382681.json',\n",
       " 'humes_theory_of_the_self_revisited.json',\n",
       " 'pq30-0061.json',\n",
       " 'fshow.json',\n",
       " '40232176.json',\n",
       " 'ContentServer.asp-3.json',\n",
       " 'project_muse_389389.json',\n",
       " 'project_muse_391081.json',\n",
       " 'ROCHAT-4v1.json',\n",
       " 'project_muse_389409.json',\n",
       " '26303717.json',\n",
       " 'project_muse_382731.json',\n",
       " '27744766.json',\n",
       " 'project_muse_439818.json',\n",
       " 'SCHIHA-3.2.json',\n",
       " '3327575.json',\n",
       " '2239-Article Text-2582-1-10-20140925.json',\n",
       " 'strawson-evident-connexion.json',\n",
       " 'project_muse_403836.json',\n",
       " 'project_muse_227867.json',\n",
       " '1399612.json',\n",
       " 'project_muse_389490.json',\n",
       " 'project_muse_382726.json',\n",
       " '2106947.json',\n",
       " '20532746.json',\n",
       " '07.0_pp_177_208_Hume_and_the_Problem_of_Personal_Identity.json',\n",
       " 'ContentServer.asp-2.json',\n",
       " 'penelhum-themes-book.json',\n",
       " 'thiel-early-modern-self-13-14.json',\n",
       " 'project_muse_388510.json',\n",
       " 'acprof-9780199229505-chapter-6.json',\n",
       " '1173639.json',\n",
       " 'rocknack-imagined-causes-ch-10.json',\n",
       " 'project_muse_388506.json',\n",
       " 'project_muse_388443.json',\n",
       " '2182635.json',\n",
       " 'project_muse_596651.json',\n",
       " '2660181.json',\n",
       " 'ContentServer.asp-5.json',\n",
       " 'project_muse_383297.json',\n",
       " 'MURRAY-1993-Ethos.json',\n",
       " 'Schwerin2012_Article_HumeOnTheSelf.json',\n",
       " 'humes_theory_of_the_self_and_its_identity.json',\n",
       " 'acpq_1995_0069_0003_0485_0501&pdfname=acpq_1995_0069_0003_0091_0107.json',\n",
       " '533Cottrell.json',\n",
       " 'project_muse_383238.json',\n",
       " 'ContentServer.asp-4.json',\n",
       " '23598030.json',\n",
       " 'project_muse_228761.json',\n",
       " '19333-Texto del artículo-19408-1-10-20110602.json',\n",
       " '20009239.json',\n",
       " 'project_muse_388507.json',\n",
       " 'ContentServer.asp-8.json',\n",
       " 'Prolegomena_11_2_2012_Article_Lybaert.json',\n",
       " '20708617.json',\n",
       " 'project_muse_38.json',\n",
       " '10088-Texto del artículo-10169-1-10-20110601.json',\n",
       " '1130384.json',\n",
       " 'project_muse_390704.json',\n",
       " 'ContentServer.asp-7.json',\n",
       " 'project_muse_383344.json',\n",
       " '1173637.json',\n",
       " 'project_muse_553401.json',\n",
       " '27902511.json',\n",
       " 'project_muse_385510.json',\n",
       " '1173636.json',\n",
       " '43155096.json',\n",
       " 'project_muse_365207.json',\n",
       " '27745095.json',\n",
       " 'project_muse_388509.json',\n",
       " 'ContentServer.asp-6.json',\n",
       " 'Kail-2008-European_Journal_of_Philosophy.json',\n",
       " '41441496.json',\n",
       " '20126883.json',\n",
       " '9780470776377.ch8.json',\n",
       " 'project_muse_399569.json',\n",
       " 'Levin2007_Article_BundlingHumeWithKripkenstein.json',\n",
       " 'Gilead2008_Article_AHumeanArgumentForPersonalIden.json',\n",
       " '2184977.json',\n",
       " '2653404-2.json',\n",
       " 'ipq_2004_0044_0002_0276_0278&pdfname=ipq_2004_0044_0002_0134_0136.json',\n",
       " 'pq21-0324.json',\n",
       " 'Projection and Realism in Hume s Philosophy.json',\n",
       " 'project_muse_383319.json',\n",
       " 'SIRTCO.1.json',\n",
       " 'Flage_et_al-1984-The_Southern_Journal_of_Philosophy.json',\n",
       " 'project_muse_439820.json',\n",
       " 'WINKLER-2010-Philosophical_Books.json',\n",
       " 'fzt013.json',\n",
       " 'project_muse_389493.json',\n",
       " '24439665.json',\n",
       " '31448-231447-1-PB.json',\n",
       " '1173780.json',\n",
       " 'project_muse_382933.json',\n",
       " \"Projection and Realism in Hume's Philosophy coventry review.json\",\n",
       " 'project_muse_511194.json',\n",
       " '1398236.json',\n",
       " 'acpq_1990_0064_0002_0233_.json',\n",
       " 'out.json',\n",
       " 'pq9-0097.json',\n",
       " '20131803.json']"
      ]
     },
     "execution_count": 12,
     "metadata": {},
     "output_type": "execute_result"
    }
   ],
   "source": [
    "json_list"
   ]
  },
  {
   "cell_type": "code",
   "execution_count": 13,
   "metadata": {},
   "outputs": [],
   "source": [
    "from functions_and_classes.lit_level_operations import lit_scores_from_jsons"
   ]
  },
  {
   "cell_type": "code",
   "execution_count": 14,
   "metadata": {},
   "outputs": [
    {
     "name": "stdout",
     "output_type": "stream",
     "text": [
      "humes_theory_of_the_self_revisited has no strict cites\n",
      "pq30-0061 has no strict cites\n",
      "fshow has no strict cites\n",
      "project_muse_389409 has no strict cites\n",
      "project_muse_389409 has no aggressive cites\n",
      "26303717 has no strict cites\n",
      "project_muse_382731 has no strict cites\n",
      "27744766 has no strict cites\n",
      "project_muse_439818 has no strict cites\n",
      "project_muse_439818 has no aggressive cites\n",
      "SCHIHA-3.2 has no strict cites\n",
      "SCHIHA-3.2 has no aggressive cites\n",
      "1399612 has no strict cites\n",
      "project_muse_389490 has no strict cites\n",
      "2106947 has no strict cites\n",
      "ContentServer.asp-2 has no strict cites\n",
      "ContentServer.asp-2 has no aggressive cites\n",
      "2182635 has no strict cites\n",
      "2182635 has no aggressive cites\n",
      "ContentServer.asp-5 has no strict cites\n",
      "project_muse_383297 has no strict cites\n",
      "project_muse_383297 has no aggressive cites\n",
      "MURRAY-1993-Ethos has no strict cites\n",
      "MURRAY-1993-Ethos has no aggressive cites\n",
      "humes_theory_of_the_self_and_its_identity has no strict cites\n",
      "23598030 has no strict cites\n",
      "23598030 has no aggressive cites\n",
      "19333-Texto del artículo-19408-1-10-20110602 has no strict cites\n",
      "19333-Texto del artículo-19408-1-10-20110602 has no aggressive cites\n",
      "20009239 has no strict cites\n",
      "20009239 has no aggressive cites\n",
      "ContentServer.asp-8 has no strict cites\n",
      "project_muse_38 has no strict cites\n",
      "1130384 has no strict cites\n",
      "1130384 has no aggressive cites\n",
      "ContentServer.asp-7 has no strict cites\n",
      "27902511 has no strict cites\n",
      "27902511 has no aggressive cites\n",
      "project_muse_385510 has no strict cites\n",
      "43155096 has no strict cites\n",
      "project_muse_365207 has no strict cites\n",
      "ContentServer.asp-6 has no strict cites\n",
      "ContentServer.asp-6 has no aggressive cites\n",
      "project_muse_399569 has no strict cites\n",
      "Gilead2008_Article_AHumeanArgumentForPersonalIden has no strict cites\n",
      "pq21-0324 has no strict cites\n",
      "Projection and Realism in Hume s Philosophy has no strict cites\n",
      "Projection and Realism in Hume s Philosophy has no aggressive cites\n",
      "project_muse_383319 has no strict cites\n",
      "SIRTCO.1 has no strict cites\n",
      "SIRTCO.1 has no aggressive cites\n",
      "fzt013 has no strict cites\n",
      "project_muse_389493 has no strict cites\n",
      "1398236 has no strict cites\n",
      "1398236 has no aggressive cites\n",
      "pq9-0097 has no strict cites\n"
     ]
    }
   ],
   "source": [
    "ls = lit_scores_from_jsons()"
   ]
  },
  {
   "cell_type": "code",
   "execution_count": 15,
   "metadata": {},
   "outputs": [
    {
     "data": {
      "text/plain": [
       "44.913"
      ]
     },
     "execution_count": 15,
     "metadata": {},
     "output_type": "execute_result"
    }
   ],
   "source": [
    "ls['lit_s_w_c']['1.1.1']"
   ]
  },
  {
   "cell_type": "code",
   "execution_count": 16,
   "metadata": {},
   "outputs": [],
   "source": [
    "from functions_and_classes.lit_level_operations import pd_to_csv, cd_to_csv"
   ]
  },
  {
   "cell_type": "code",
   "execution_count": 17,
   "metadata": {},
   "outputs": [],
   "source": [
    "from functions_and_classes.lit_level_operations import lit_to_csv"
   ]
  },
  {
   "cell_type": "code",
   "execution_count": 18,
   "metadata": {},
   "outputs": [
    {
     "name": "stdout",
     "output_type": "stream",
     "text": [
      "generated csv for lit_s_w_p\n",
      "generated csv for lit_s_w_c\n",
      "generated csv for lit_a_w_p\n",
      "generated csv for lit_a_w_c\n",
      "generated csv for lit_s_l_p\n",
      "generated csv for lit_s_l_c\n",
      "generated csv for lit_a_l_p\n",
      "generated csv for lit_a_l_c\n"
     ]
    }
   ],
   "source": [
    "lit_to_csv(ls)"
   ]
  },
  {
   "cell_type": "code",
   "execution_count": 19,
   "metadata": {},
   "outputs": [],
   "source": [
    "import pandas as pd\n"
   ]
  },
  {
   "cell_type": "code",
   "execution_count": 25,
   "metadata": {},
   "outputs": [],
   "source": [
    "from functions_and_classes.comparisons import s_l_p, a_l_p, s_l_c, a_l_c"
   ]
  },
  {
   "cell_type": "code",
   "execution_count": 26,
   "metadata": {},
   "outputs": [],
   "source": [
    "from functions_and_classes.comparisons import updateSLCcomps, updateALCcomps, updateSLPcomps, updateALPcomps"
   ]
  },
  {
   "cell_type": "markdown",
   "metadata": {},
   "source": [
    "Everything below here is basically just to manually update the comparison spreadsheets in a one time way to include the cite counts for each file. each time the update functions are run in the future they'll automatically take care of this information."
   ]
  },
  {
   "cell_type": "code",
   "execution_count": 132,
   "metadata": {},
   "outputs": [],
   "source": [
    "tSLCcomp = pd.read_csv('data/s_l_c_comp.csv', index_col=0)\n",
    "tALCcomp = pd.read_csv('data/a_l_c_comp.csv', index_col=0)\n",
    "tSLPcomp = pd.read_csv('data/s_l_p_comp.csv', index_col=0)\n",
    "tALPcomp = pd.read_csv('data/a_l_p_comp.csv', index_col=0)"
   ]
  },
  {
   "cell_type": "code",
   "execution_count": 133,
   "metadata": {},
   "outputs": [],
   "source": [
    "import json"
   ]
  },
  {
   "cell_type": "code",
   "execution_count": 134,
   "metadata": {},
   "outputs": [],
   "source": [
    "strict_cite_count = {}\n",
    "agg_cite_count = {}\n",
    "for file in json_list:\n",
    "    fp = json_dir+file\n",
    "    jfile = open(fp, 'r')\n",
    "    jd = json.load(jfile)\n",
    "    strict_cite_count[jd['name']] = jd['totalStrictCites']\n",
    "    agg_cite_count[jd['name']] = jd['totalAggressiveCites']\n",
    "scc_df = pd.DataFrame.from_dict(strict_cite_count, orient='index', columns=['totalStrictCites'])\n",
    "agg_df = pd.DataFrame.from_dict(agg_cite_count, orient='index', columns=['totalAggressiveCites'])\n",
    "total_strict_cites = scc_df['totalStrictCites'].sum()\n",
    "total_agg_cites = agg_df['totalAggressiveCites'].sum()\n",
    "lit_scc = pd.DataFrame([total_strict_cites], index=['Literature'], columns=['totalStrictCites'])\n",
    "scc_df = scc_df.append(lit_scc)\n",
    "lit_agg = pd.DataFrame([total_agg_cites], index=['Literature'], columns=['totalAggressiveCites'])\n",
    "agg_df = agg_df.append(lit_agg)"
   ]
  },
  {
   "cell_type": "code",
   "execution_count": 135,
   "metadata": {},
   "outputs": [],
   "source": [
    "tSLPcomp = pd.merge(tSLPcomp, scc_df, left_index=True, right_index=True)\n",
    "tSLPcomp.to_csv('data/s_l_p_comp.csv')\n",
    "tALPcomp = pd.merge(tALPcomp, agg_df, left_index=True, right_index=True)\n",
    "tALPcomp.to_csv('data/a_l_p_comp.csv')\n",
    "tSLCcomp = pd.merge(tSLCcomp, scc_df, left_index=True, right_index=True)\n",
    "tSLCcomp.to_csv('data/s_l_c_comp.csv')\n",
    "tALCcomp = pd.merge(tALCcomp, agg_df, left_index=True, right_index=True)\n",
    "tALCcomp.to_csv('data/a_l_c_comp.csv')"
   ]
  },
  {
   "cell_type": "code",
   "execution_count": null,
   "metadata": {},
   "outputs": [],
   "source": []
  }
 ],
 "metadata": {
  "kernelspec": {
   "display_name": "Python 3",
   "language": "python",
   "name": "python3"
  },
  "language_info": {
   "codemirror_mode": {
    "name": "ipython",
    "version": 3
   },
   "file_extension": ".py",
   "mimetype": "text/x-python",
   "name": "python",
   "nbconvert_exporter": "python",
   "pygments_lexer": "ipython3",
   "version": "3.8.2"
  }
 },
 "nbformat": 4,
 "nbformat_minor": 4
}
