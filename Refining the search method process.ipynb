{
 "cells": [
  {
   "cell_type": "markdown",
   "metadata": {},
   "source": [
    "the overall priority system should be something like:\n",
    "get nortons.\n",
    "if fewer than 5 nortons, get sbns\n",
    "if fewer than 5 sbsn, get strict parens\n",
    "if fewer than 5 strict parens, get loose parens\n",
    "\n",
    "#that requires an update to the classes to store strict and loose parens collection groups.\n",
    "\n",
    "\n",
    "return all citations. "
   ]
  }
 ],
 "metadata": {
  "kernelspec": {
   "display_name": "Python 3",
   "language": "python",
   "name": "python3"
  },
  "language_info": {
   "codemirror_mode": {
    "name": "ipython",
    "version": 3
   },
   "file_extension": ".py",
   "mimetype": "text/x-python",
   "name": "python",
   "nbconvert_exporter": "python",
   "pygments_lexer": "ipython3",
   "version": "3.8.2"
  }
 },
 "nbformat": 4,
 "nbformat_minor": 4
}
