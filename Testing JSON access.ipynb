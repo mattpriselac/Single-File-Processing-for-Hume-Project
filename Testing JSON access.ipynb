{
 "cells": [
  {
   "cell_type": "code",
   "execution_count": 1,
   "metadata": {},
   "outputs": [],
   "source": [
    "from functions_and_classes.paper_io import *\n",
    "from functions_and_classes.classes import *"
   ]
  },
  {
   "cell_type": "code",
   "execution_count": 2,
   "metadata": {},
   "outputs": [],
   "source": [
    "import json"
   ]
  },
  {
   "cell_type": "code",
   "execution_count": 24,
   "metadata": {},
   "outputs": [],
   "source": [
    "pub_dir = 'data/jsons/533Cottrell.json'\n",
    "jfile = open(pub_dir, 'r')\n",
    "jd = json.load(jfile)\n",
    "jfile.close()\n",
    "jd\n",
    "test = p_from_dict(jd)"
   ]
  },
  {
   "cell_type": "code",
   "execution_count": 25,
   "metadata": {},
   "outputs": [
    {
     "data": {
      "text/plain": [
       "{'Author': 'Cottrell, Jonathan',\n",
       " 'Title of Work': \"Minds, Composition, and Hume's Skepticism in the Appendix\",\n",
       " 'Journal': 'Philosophical Review',\n",
       " 'Volume': 124.0,\n",
       " 'Issue': '4',\n",
       " 'Pages': '533--569',\n",
       " 'Year': 2015.0,\n",
       " 'Book Title': nan}"
      ]
     },
     "execution_count": 25,
     "metadata": {},
     "output_type": "execute_result"
    }
   ],
   "source": [
    "test.biblio"
   ]
  },
  {
   "cell_type": "code",
   "execution_count": 23,
   "metadata": {},
   "outputs": [
    {
     "data": {
      "text/plain": [
       "494"
      ]
     },
     "execution_count": 23,
     "metadata": {},
     "output_type": "execute_result"
    }
   ],
   "source": [
    "test.totalAggressiveCites"
   ]
  },
  {
   "cell_type": "code",
   "execution_count": 27,
   "metadata": {},
   "outputs": [],
   "source": [
    "from functions_and_classes.comparisons import article_comps as ac"
   ]
  },
  {
   "cell_type": "code",
   "execution_count": 73,
   "metadata": {},
   "outputs": [
    {
     "data": {
      "text/plain": [
       "project_muse_553401                                                    46.262418\n",
       "strawson-evident-connexion                                             69.129799\n",
       "acpq_1995_0069_0003_0485_0501&pdfname=acpq_1995_0069_0003_0091_0107    70.741783\n",
       "project_muse_383238                                                    70.871148\n",
       "1173780                                                                70.935200\n",
       "07.0_pp_177_208_Hume_and_the_Problem_of_Personal_Identity              73.460727\n",
       "1173636                                                                76.250465\n",
       "acprof-9780199229505-chapter-6                                         77.462996\n",
       "41441496                                                               79.153632\n",
       "project_muse_227867                                                    80.079494\n",
       "9780470776377.ch8                                                      81.570601\n",
       "31448-231447-1-PB                                                      81.682789\n",
       "Name: Literature, dtype: float64"
      ]
     },
     "execution_count": 73,
     "metadata": {},
     "output_type": "execute_result"
    }
   ],
   "source": [
    "ac('Literature', min_num_cites=10, min_num_comps=10, p_or_c='c', a_or_s='s')['Literature']"
   ]
  },
  {
   "cell_type": "code",
   "execution_count": 98,
   "metadata": {},
   "outputs": [
    {
     "name": "stdout",
     "output_type": "stream",
     "text": [
      "project_muse_553401 :\n",
      " 46.262417535496596\n",
      "strawson-evident-connexion :\n",
      " 69.12979895154757\n",
      "acpq_1995_0069_0003_0485_0501&pdfname=acpq_1995_0069_0003_0091_0107 :\n",
      " 70.74178329459043\n",
      "project_muse_383238 :\n",
      " 70.8711478432899\n",
      "1173780 :\n",
      " 70.93520020378435\n",
      "07.0_pp_177_208_Hume_and_the_Problem_of_Personal_Identity :\n",
      " 73.460727269104\n",
      "1173636 :\n",
      " 76.25046486619995\n",
      "acprof-9780199229505-chapter-6 :\n",
      " 77.46299642706661\n",
      "41441496 :\n",
      " 79.15363225572278\n",
      "project_muse_227867 :\n",
      " 80.07949408920385\n",
      "9780470776377.ch8 :\n",
      " 81.57060122089729\n",
      "31448-231447-1-PB :\n",
      " 81.68278931700813\n"
     ]
    }
   ],
   "source": []
  },
  {
   "cell_type": "code",
   "execution_count": 89,
   "metadata": {},
   "outputs": [
    {
     "data": {
      "text/plain": [
       "'strawson-evident-connexion'"
      ]
     },
     "execution_count": 89,
     "metadata": {},
     "output_type": "execute_result"
    }
   ],
   "source": [
    "tdf.iloc[1].name"
   ]
  },
  {
   "cell_type": "code",
   "execution_count": 93,
   "metadata": {},
   "outputs": [
    {
     "data": {
      "text/plain": [
       "12"
      ]
     },
     "execution_count": 93,
     "metadata": {},
     "output_type": "execute_result"
    }
   ],
   "source": [
    "tdf['Literature'].count()"
   ]
  },
  {
   "cell_type": "code",
   "execution_count": 108,
   "metadata": {},
   "outputs": [
    {
     "data": {
      "text/plain": [
       "'Hume, Space, and the Self'"
      ]
     },
     "execution_count": 108,
     "metadata": {},
     "output_type": "execute_result"
    }
   ],
   "source": [
    "from data.jsons import json_list\n",
    "jf = open('data/jsons/'+json_list[5], 'r')\n",
    "jd = json.load(jf)\n",
    "jd['biblio']['Title of Work']"
   ]
  },
  {
   "cell_type": "code",
   "execution_count": 109,
   "metadata": {},
   "outputs": [],
   "source": [
    "file_to_title_dict = {}\n",
    "for file in json_list:\n",
    "    jfile = open('data/jsons/'+file, 'r')\n",
    "    jd = json.load(jfile)\n",
    "    jfile.close()\n",
    "    file_to_title_dict[file[:-5]] = jd['biblio']['Title of Work']"
   ]
  },
  {
   "cell_type": "code",
   "execution_count": 115,
   "metadata": {},
   "outputs": [
    {
     "name": "stdout",
     "output_type": "stream",
     "text": [
      "Skeptical Realism and Hume on the Self :\n",
      " 46.262\n",
      "The Evident Connexion :\n",
      " 69.13\n",
      "Hume\\textquoterights Invisible Self :\n",
      " 70.742\n",
      "\\textquotedblleftAll Is Revolution in Us\\textquotedblright: Personal Identity in Shaftesbury and Hume :\n",
      " 70.871\n",
      "Hume on Personal Identity :\n",
      " 70.935\n",
      "Hume and the Problem of Personal Identity :\n",
      " 73.461\n",
      "All My Hopes Vanish': Hume on the Mind :\n",
      " 76.25\n",
      "Projection and Realism in Hume's Philosophy :\n",
      " 77.463\n",
      "The Evident Connexion: Hume on Personal Identity. By Galen Strawson. Oxford: Oxford University Press, 2011, Pp. Xii + 165. ISBN 9780199608508 :\n",
      " 79.154\n",
      "Hume on Personal Identity :\n",
      " 80.079\n",
      "Personal Identity and the Skeptical System of Philosophy :\n",
      " 81.571\n",
      "Hume and the Fiction of Personal Identity :\n",
      " 81.683\n"
     ]
    }
   ],
   "source": [
    "tdf = ac('Literature', min_num_cites=10, min_num_comps=10, p_or_c='c', a_or_s='s')\n",
    "count = tdf['Literature'].count()\n",
    "for i in range(0,count):\n",
    "    t = file_to_title_dict[tdf.iloc[i].name.strip()]\n",
    "    print(t, ':\\n', round(tdf.iloc[i]['Literature'],3))"
   ]
  },
  {
   "cell_type": "code",
   "execution_count": 117,
   "metadata": {},
   "outputs": [
    {
     "data": {
      "text/plain": [
       "'totalStrictCites'"
      ]
     },
     "execution_count": 117,
     "metadata": {},
     "output_type": "execute_result"
    }
   ],
   "source": [
    "tdf.columns[1]"
   ]
  },
  {
   "cell_type": "code",
   "execution_count": 125,
   "metadata": {},
   "outputs": [],
   "source": [
    "def generateCompData(df_in,filename):\n",
    "    count = df_in[filename].count()\n",
    "    out_list = []\n",
    "    for i in range(0,count):\n",
    "        title = file_to_title_dict[df_in.iloc[i].name.strip()]\n",
    "        file_comp_info = {}\n",
    "        file_comp_info['rank'] = i+1\n",
    "        file_comp_info['file'] = df_in.iloc[i].name.strip()\n",
    "        file_comp_info['title'] = title\n",
    "        file_comp_info['score'] = round(df_in.iloc[i][filename],3)\n",
    "        file_comp_info['cites'] = df_in.iloc[i][df_in.columns[1]]\n",
    "        out_list.append(file_comp_info)\n",
    "    return out_list"
   ]
  },
  {
   "cell_type": "code",
   "execution_count": 126,
   "metadata": {},
   "outputs": [],
   "source": [
    "cdata = generateCompData(tdf,'Literature')"
   ]
  },
  {
   "cell_type": "code",
   "execution_count": 127,
   "metadata": {},
   "outputs": [
    {
     "data": {
      "text/plain": [
       "{'rank': 1,\n",
       " 'file': 'project_muse_553401',\n",
       " 'title': 'Skeptical Realism and Hume on the Self',\n",
       " 'score': 46.262,\n",
       " 'cites': 145.0}"
      ]
     },
     "execution_count": 127,
     "metadata": {},
     "output_type": "execute_result"
    }
   ],
   "source": [
    "cdata[0]"
   ]
  },
  {
   "cell_type": "code",
   "execution_count": 128,
   "metadata": {},
   "outputs": [
    {
     "data": {
      "text/plain": [
       "{'rank': 2,\n",
       " 'file': 'strawson-evident-connexion',\n",
       " 'title': 'The Evident Connexion',\n",
       " 'score': 69.13,\n",
       " 'cites': 330.0}"
      ]
     },
     "execution_count": 128,
     "metadata": {},
     "output_type": "execute_result"
    }
   ],
   "source": [
    "cdata[1]"
   ]
  },
  {
   "cell_type": "code",
   "execution_count": 130,
   "metadata": {},
   "outputs": [],
   "source": [
    "#next thing i'd like to setup would be the grades for the cite quality.\n",
    "#to do that I need to measure the overall list of all comparisons in a given search/type category\n",
    "#and then do percentiles. need to add a column with match quality and a data set."
   ]
  },
  {
   "cell_type": "code",
   "execution_count": 1,
   "metadata": {},
   "outputs": [],
   "source": [
    "#next thing I need to do is generate a list of the citations in a given article. The CSVs are in the csv folder witht he file name\n",
    "#as the prefix. So, I can import a data frame from the "
   ]
  },
  {
   "cell_type": "code",
   "execution_count": 2,
   "metadata": {},
   "outputs": [],
   "source": [
    "#After that I'll want a reverse look up function to take an input of a paragraph or chapter and then a list of the most frequent citers of that location"
   ]
  },
  {
   "cell_type": "code",
   "execution_count": 3,
   "metadata": {},
   "outputs": [],
   "source": [
    "import pandas as pd\n",
    "import os"
   ]
  },
  {
   "cell_type": "code",
   "execution_count": 67,
   "metadata": {},
   "outputs": [],
   "source": [
    "#NOTE: When I do this with Firestore, I think the easier way to do this will be to go through the paper object to access\n",
    "#the relevant score sheet dictionary as it's saved there and load the dictionary and then load teh data frame from \n",
    "#the dictinoary direclty. \n",
    "def generateListOfCites(filename, a_s=\"a\", c_p=\"c\", w_l=\"w\"):\n",
    "    basedir = \"\"\n",
    "    basepath = basedir+\"data/csvs/\"+filename\n",
    "    if a_s == \"a\":\n",
    "        if c_p == \"c\":\n",
    "            if w_l == \"w\":\n",
    "                path = basepath+\"-a-w-c.csv\"\n",
    "            elif w_l == 'l':\n",
    "                path = basepath+'-a-l-c.csv'\n",
    "        elif c_p == 'p':\n",
    "            if w_l == \"w\":\n",
    "                path = basepath+\"-a-w-p.csv\"\n",
    "            elif w_l == 'l':\n",
    "                path = basepath+'-a-l-p.csv'\n",
    "    elif a_s == \"s\":\n",
    "        if c_p == \"c\":\n",
    "            if w_l == \"w\":\n",
    "                path = basepath+\"-s-w-c.csv\"\n",
    "            elif w_l == 'l':\n",
    "                path = basepath+'-s-l-c.csv'\n",
    "        elif c_p == 'p':\n",
    "            if w_l == \"w\":\n",
    "                path = basepath+\"-s-w-p.csv\"\n",
    "            elif w_l == 'l':\n",
    "                path = basepath+'-s-l-p.csv'\n",
    "    df = pd.read_csv(path, names=['Location', 'Count'])\n",
    "    nz = df['Count'] > 0\n",
    "    scdf = df[nz].sort_values('Count', ascending=False)\n",
    "    entries = scdf['Location'].count()\n",
    "    out_list = []\n",
    "    for i in range(0,entries):\n",
    "        pair = (scdf.iloc[i]['Location'], round(scdf.iloc[i]['Count'],3))\n",
    "        out_list.append(pair)\n",
    "    return out_list\n",
    "        \n",
    "        "
   ]
  },
  {
   "cell_type": "code",
   "execution_count": 10,
   "metadata": {},
   "outputs": [],
   "source": [
    "testdf = pd.read_csv('data/csvs/533Cottrell-s-w-c.csv', names=['Location','Count'])"
   ]
  },
  {
   "cell_type": "code",
   "execution_count": 21,
   "metadata": {},
   "outputs": [],
   "source": [
    "non_zero_filter = testdf['Count'] > 0\n",
    "cleandf = testdf[non_zero_filter]\n",
    "scdf = cleandf.sort_values('Count', ascending=False)"
   ]
  },
  {
   "cell_type": "code",
   "execution_count": 31,
   "metadata": {},
   "outputs": [],
   "source": [
    "count = scdf['Location'].count()"
   ]
  },
  {
   "cell_type": "code",
   "execution_count": 39,
   "metadata": {},
   "outputs": [
    {
     "name": "stdout",
     "output_type": "stream",
     "text": [
      "App.\n",
      "76.0\n",
      "1.4.2\n",
      "22.0\n",
      "Abs\n",
      "20.0\n",
      "1.4.6\n",
      "18.0\n",
      "1.3.14\n",
      "9.0\n",
      "1.1.4\n",
      "9.0\n",
      "1.1.1\n",
      "7.0\n",
      "2.1.10\n",
      "4.0\n",
      "1.3.6\n",
      "4.0\n",
      "1.4.5\n",
      "4.0\n",
      "1.3.2\n",
      "3.0\n",
      "1.2.3\n",
      "3.0\n",
      "2.1.2\n",
      "2.0\n",
      "1.1.6\n",
      "2.0\n",
      "3.1.1\n",
      "2.0\n",
      "2.3.3\n",
      "2.0\n",
      "1.4.3\n",
      "2.0\n",
      "1.2.6\n",
      "2.0\n",
      "1.1.7\n",
      "2.0\n",
      "1.2.1\n",
      "2.0\n",
      "1.2.2\n",
      "2.0\n",
      "2.1.4\n",
      "1.0\n",
      "2.2.6\n",
      "1.0\n",
      "2.3.1\n",
      "1.0\n",
      "2.3.2\n",
      "1.0\n",
      "1.2.5\n",
      "1.0\n"
     ]
    }
   ],
   "source": [
    "for i in range(0,count):\n",
    "    print(scdf.iloc[i]['Location'])\n",
    "    print(round(scdf.iloc[i]['Count'],1))"
   ]
  },
  {
   "cell_type": "code",
   "execution_count": 69,
   "metadata": {},
   "outputs": [
    {
     "data": {
      "text/plain": [
       "[('App.20', 32.083),\n",
       " ('App.10', 17.183),\n",
       " ('Abs35', 11.0),\n",
       " ('App.21', 10.083),\n",
       " ('Abs28', 7.0),\n",
       " ('1.4.2.7', 6.0),\n",
       " ('1.1.4.1', 5.0),\n",
       " ('1.1.1.11', 4.0),\n",
       " ('App.19', 3.293),\n",
       " ('1.4.6.19', 3.171),\n",
       " ('1.4.6.22', 3.112),\n",
       " ('1.2.3.11', 3.0),\n",
       " ('1.4.6.3', 3.0),\n",
       " ('1.4.2.56', 3.0),\n",
       " ('App.16', 2.293),\n",
       " ('1.4.6.16', 2.171),\n",
       " ('1.3.2.7', 2.167),\n",
       " ('1.4.2.39', 2.077),\n",
       " ('2.3.3.5', 2.0),\n",
       " ('1.3.14.31', 2.0),\n",
       " ('1.4.3.5', 2.0),\n",
       " ('2.1.10.4', 2.0),\n",
       " ('1.3.14.6', 2.0),\n",
       " ('1.3.6.12', 2.0),\n",
       " ('1.1.1.8', 2.0),\n",
       " ('Abs6', 2.0),\n",
       " ('1.2.6.8', 2.0),\n",
       " ('1.2.2.3', 2.0),\n",
       " ('App.13', 1.793),\n",
       " ('App.12', 1.793),\n",
       " ('App.11', 1.293),\n",
       " ('App.14', 1.293),\n",
       " ('App.18', 1.293),\n",
       " ('App.17', 1.293),\n",
       " ('App.15', 1.293),\n",
       " ('1.4.2.29', 1.2),\n",
       " ('1.4.2.30', 1.2),\n",
       " ('1.4.6.8', 1.171),\n",
       " ('1.4.6.6', 1.171),\n",
       " ('1.4.2.47', 1.1),\n",
       " ('1.4.2.54', 1.1),\n",
       " ('1.4.2.36', 1.077),\n",
       " ('1.4.2.31', 1.077),\n",
       " ('1.4.5.19', 1.0),\n",
       " ('1.4.5.7', 1.0),\n",
       " ('1.4.5.3', 1.0),\n",
       " ('1.4.6.1', 1.0),\n",
       " ('3.1.1.2', 1.0),\n",
       " ('1.4.6.4', 1.0),\n",
       " ('2.3.2.4', 1.0),\n",
       " ('2.1.2.2', 1.0),\n",
       " ('2.1.2.4', 1.0),\n",
       " ('2.1.4.3', 1.0),\n",
       " ('2.1.10.7', 1.0),\n",
       " ('App.1', 1.0),\n",
       " ('3.1.1.9', 1.0),\n",
       " ('2.3.1.2', 1.0),\n",
       " ('2.2.6.2', 1.0),\n",
       " ('1.1.1.2', 1.0),\n",
       " ('1.2.1.3', 1.0),\n",
       " ('1.3.14.34', 1.0),\n",
       " ('1.2.5.20', 1.0),\n",
       " ('1.2.1.2', 1.0),\n",
       " ('1.1.7.18', 1.0),\n",
       " ('1.3.14.13', 1.0),\n",
       " ('1.3.14.16', 1.0),\n",
       " ('1.3.14.20', 1.0),\n",
       " ('1.3.6.16', 1.0),\n",
       " ('1.3.14.29', 1.0),\n",
       " ('1.1.6.3', 1.0),\n",
       " ('1.1.6.1', 1.0),\n",
       " ('1.1.4.7', 1.0),\n",
       " ('1.1.4.6', 1.0),\n",
       " ('1.4.2.21', 1.0),\n",
       " ('1.1.4.3', 1.0),\n",
       " ('1.1.4.2', 1.0),\n",
       " ('1.3.6.7', 1.0),\n",
       " ('2.1.10.9', 0.5),\n",
       " ('2.1.10.9n57', 0.5),\n",
       " ('1.4.2.45', 0.5),\n",
       " ('1.4.5.6', 0.5),\n",
       " ('1.4.5.5', 0.5),\n",
       " ('1.4.2.44', 0.5),\n",
       " ('1.1.7.10', 0.25),\n",
       " ('1.1.7.9', 0.25),\n",
       " ('1.1.7.8', 0.25),\n",
       " ('1.1.7.7', 0.25),\n",
       " ('1.4.2.26', 0.2),\n",
       " ('1.4.2.28', 0.2),\n",
       " ('1.4.2.27', 0.2),\n",
       " ('1.4.6.21', 0.171),\n",
       " ('1.4.6.20', 0.171),\n",
       " ('1.4.6.18', 0.171),\n",
       " ('1.4.6.9', 0.171),\n",
       " ('1.4.6.17', 0.171),\n",
       " ('1.4.6.15', 0.171),\n",
       " ('1.4.6.14', 0.171),\n",
       " ('1.4.6.13', 0.171),\n",
       " ('1.4.6.12', 0.171),\n",
       " ('1.4.6.11', 0.171),\n",
       " ('1.4.6.10', 0.171),\n",
       " ('1.4.6.7', 0.171),\n",
       " ('1.4.6.5', 0.171),\n",
       " ('1.3.2.9', 0.167),\n",
       " ('1.3.2.8', 0.167),\n",
       " ('1.3.2.6', 0.167),\n",
       " ('1.3.2.11', 0.167),\n",
       " ('1.3.2.10', 0.167),\n",
       " ('1.4.2.46', 0.1),\n",
       " ('1.4.2.50', 0.1),\n",
       " ('1.4.2.55', 0.1),\n",
       " ('1.4.2.48', 0.1),\n",
       " ('1.4.2.49', 0.1),\n",
       " ('1.4.2.51', 0.1),\n",
       " ('1.4.2.52', 0.1),\n",
       " ('1.4.2.53', 0.1),\n",
       " ('1.4.2.43', 0.077),\n",
       " ('1.4.2.32', 0.077),\n",
       " ('1.4.2.33', 0.077),\n",
       " ('1.4.2.41', 0.077),\n",
       " ('1.4.2.40', 0.077),\n",
       " ('1.4.2.38', 0.077),\n",
       " ('1.4.2.37', 0.077),\n",
       " ('1.4.2.35', 0.077),\n",
       " ('1.4.2.34', 0.077),\n",
       " ('1.4.2.42', 0.077)]"
      ]
     },
     "execution_count": 69,
     "metadata": {},
     "output_type": "execute_result"
    }
   ],
   "source": [
    "generateListOfCites('533Cottrell', a_s=\"s\", c_p=\"p\")"
   ]
  },
  {
   "cell_type": "code",
   "execution_count": null,
   "metadata": {},
   "outputs": [],
   "source": []
  }
 ],
 "metadata": {
  "kernelspec": {
   "display_name": "Python 3",
   "language": "python",
   "name": "python3"
  },
  "language_info": {
   "codemirror_mode": {
    "name": "ipython",
    "version": 3
   },
   "file_extension": ".py",
   "mimetype": "text/x-python",
   "name": "python",
   "nbconvert_exporter": "python",
   "pygments_lexer": "ipython3",
   "version": "3.8.2"
  }
 },
 "nbformat": 4,
 "nbformat_minor": 4
}
