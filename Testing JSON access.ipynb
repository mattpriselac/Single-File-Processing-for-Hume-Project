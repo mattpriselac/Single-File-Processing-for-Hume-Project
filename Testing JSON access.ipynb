{
 "cells": [
  {
   "cell_type": "code",
   "execution_count": 1,
   "metadata": {},
   "outputs": [],
   "source": [
    "from functions_and_classes.paper_io import *\n",
    "from functions_and_classes.classes import *"
   ]
  },
  {
   "cell_type": "code",
   "execution_count": 2,
   "metadata": {},
   "outputs": [],
   "source": [
    "import json"
   ]
  },
  {
   "cell_type": "code",
   "execution_count": 24,
   "metadata": {},
   "outputs": [],
   "source": [
    "pub_dir = 'data/jsons/533Cottrell.json'\n",
    "jfile = open(pub_dir, 'r')\n",
    "jd = json.load(jfile)\n",
    "jfile.close()\n",
    "jd\n",
    "test = p_from_dict(jd)"
   ]
  },
  {
   "cell_type": "code",
   "execution_count": 25,
   "metadata": {},
   "outputs": [
    {
     "data": {
      "text/plain": [
       "{'Author': 'Cottrell, Jonathan',\n",
       " 'Title of Work': \"Minds, Composition, and Hume's Skepticism in the Appendix\",\n",
       " 'Journal': 'Philosophical Review',\n",
       " 'Volume': 124.0,\n",
       " 'Issue': '4',\n",
       " 'Pages': '533--569',\n",
       " 'Year': 2015.0,\n",
       " 'Book Title': nan}"
      ]
     },
     "execution_count": 25,
     "metadata": {},
     "output_type": "execute_result"
    }
   ],
   "source": [
    "test.biblio"
   ]
  },
  {
   "cell_type": "code",
   "execution_count": 23,
   "metadata": {},
   "outputs": [
    {
     "data": {
      "text/plain": [
       "494"
      ]
     },
     "execution_count": 23,
     "metadata": {},
     "output_type": "execute_result"
    }
   ],
   "source": [
    "test.totalAggressiveCites"
   ]
  },
  {
   "cell_type": "code",
   "execution_count": 27,
   "metadata": {},
   "outputs": [],
   "source": [
    "from functions_and_classes.comparisons import article_comps as ac"
   ]
  },
  {
   "cell_type": "code",
   "execution_count": 73,
   "metadata": {},
   "outputs": [
    {
     "data": {
      "text/plain": [
       "project_muse_553401                                                    46.262418\n",
       "strawson-evident-connexion                                             69.129799\n",
       "acpq_1995_0069_0003_0485_0501&pdfname=acpq_1995_0069_0003_0091_0107    70.741783\n",
       "project_muse_383238                                                    70.871148\n",
       "1173780                                                                70.935200\n",
       "07.0_pp_177_208_Hume_and_the_Problem_of_Personal_Identity              73.460727\n",
       "1173636                                                                76.250465\n",
       "acprof-9780199229505-chapter-6                                         77.462996\n",
       "41441496                                                               79.153632\n",
       "project_muse_227867                                                    80.079494\n",
       "9780470776377.ch8                                                      81.570601\n",
       "31448-231447-1-PB                                                      81.682789\n",
       "Name: Literature, dtype: float64"
      ]
     },
     "execution_count": 73,
     "metadata": {},
     "output_type": "execute_result"
    }
   ],
   "source": [
    "ac('Literature', min_num_cites=10, min_num_comps=10, p_or_c='c', a_or_s='s')['Literature']"
   ]
  },
  {
   "cell_type": "code",
   "execution_count": 98,
   "metadata": {},
   "outputs": [
    {
     "name": "stdout",
     "output_type": "stream",
     "text": [
      "project_muse_553401 :\n",
      " 46.262417535496596\n",
      "strawson-evident-connexion :\n",
      " 69.12979895154757\n",
      "acpq_1995_0069_0003_0485_0501&pdfname=acpq_1995_0069_0003_0091_0107 :\n",
      " 70.74178329459043\n",
      "project_muse_383238 :\n",
      " 70.8711478432899\n",
      "1173780 :\n",
      " 70.93520020378435\n",
      "07.0_pp_177_208_Hume_and_the_Problem_of_Personal_Identity :\n",
      " 73.460727269104\n",
      "1173636 :\n",
      " 76.25046486619995\n",
      "acprof-9780199229505-chapter-6 :\n",
      " 77.46299642706661\n",
      "41441496 :\n",
      " 79.15363225572278\n",
      "project_muse_227867 :\n",
      " 80.07949408920385\n",
      "9780470776377.ch8 :\n",
      " 81.57060122089729\n",
      "31448-231447-1-PB :\n",
      " 81.68278931700813\n"
     ]
    }
   ],
   "source": []
  },
  {
   "cell_type": "code",
   "execution_count": 89,
   "metadata": {},
   "outputs": [
    {
     "data": {
      "text/plain": [
       "'strawson-evident-connexion'"
      ]
     },
     "execution_count": 89,
     "metadata": {},
     "output_type": "execute_result"
    }
   ],
   "source": [
    "tdf.iloc[1].name"
   ]
  },
  {
   "cell_type": "code",
   "execution_count": 93,
   "metadata": {},
   "outputs": [
    {
     "data": {
      "text/plain": [
       "12"
      ]
     },
     "execution_count": 93,
     "metadata": {},
     "output_type": "execute_result"
    }
   ],
   "source": [
    "tdf['Literature'].count()"
   ]
  },
  {
   "cell_type": "code",
   "execution_count": 108,
   "metadata": {},
   "outputs": [
    {
     "data": {
      "text/plain": [
       "'Hume, Space, and the Self'"
      ]
     },
     "execution_count": 108,
     "metadata": {},
     "output_type": "execute_result"
    }
   ],
   "source": [
    "from data.jsons import json_list\n",
    "jf = open('data/jsons/'+json_list[5], 'r')\n",
    "jd = json.load(jf)\n",
    "jd['biblio']['Title of Work']"
   ]
  },
  {
   "cell_type": "code",
   "execution_count": 109,
   "metadata": {},
   "outputs": [],
   "source": [
    "file_to_title_dict = {}\n",
    "for file in json_list:\n",
    "    jfile = open('data/jsons/'+file, 'r')\n",
    "    jd = json.load(jfile)\n",
    "    jfile.close()\n",
    "    file_to_title_dict[file[:-5]] = jd['biblio']['Title of Work']"
   ]
  },
  {
   "cell_type": "code",
   "execution_count": 115,
   "metadata": {},
   "outputs": [
    {
     "name": "stdout",
     "output_type": "stream",
     "text": [
      "Skeptical Realism and Hume on the Self :\n",
      " 46.262\n",
      "The Evident Connexion :\n",
      " 69.13\n",
      "Hume\\textquoterights Invisible Self :\n",
      " 70.742\n",
      "\\textquotedblleftAll Is Revolution in Us\\textquotedblright: Personal Identity in Shaftesbury and Hume :\n",
      " 70.871\n",
      "Hume on Personal Identity :\n",
      " 70.935\n",
      "Hume and the Problem of Personal Identity :\n",
      " 73.461\n",
      "All My Hopes Vanish': Hume on the Mind :\n",
      " 76.25\n",
      "Projection and Realism in Hume's Philosophy :\n",
      " 77.463\n",
      "The Evident Connexion: Hume on Personal Identity. By Galen Strawson. Oxford: Oxford University Press, 2011, Pp. Xii + 165. ISBN 9780199608508 :\n",
      " 79.154\n",
      "Hume on Personal Identity :\n",
      " 80.079\n",
      "Personal Identity and the Skeptical System of Philosophy :\n",
      " 81.571\n",
      "Hume and the Fiction of Personal Identity :\n",
      " 81.683\n"
     ]
    }
   ],
   "source": [
    "tdf = ac('Literature', min_num_cites=10, min_num_comps=10, p_or_c='c', a_or_s='s')\n",
    "count = tdf['Literature'].count()\n",
    "for i in range(0,count):\n",
    "    t = file_to_title_dict[tdf.iloc[i].name.strip()]\n",
    "    print(t, ':\\n', round(tdf.iloc[i]['Literature'],3))"
   ]
  },
  {
   "cell_type": "code",
   "execution_count": 117,
   "metadata": {},
   "outputs": [
    {
     "data": {
      "text/plain": [
       "'totalStrictCites'"
      ]
     },
     "execution_count": 117,
     "metadata": {},
     "output_type": "execute_result"
    }
   ],
   "source": [
    "tdf.columns[1]"
   ]
  },
  {
   "cell_type": "code",
   "execution_count": 125,
   "metadata": {},
   "outputs": [],
   "source": [
    "def generateCompData(df_in,filename):\n",
    "    count = df_in[filename].count()\n",
    "    out_list = []\n",
    "    for i in range(0,count):\n",
    "        title = file_to_title_dict[df_in.iloc[i].name.strip()]\n",
    "        file_comp_info = {}\n",
    "        file_comp_info['rank'] = i+1\n",
    "        file_comp_info['file'] = df_in.iloc[i].name.strip()\n",
    "        file_comp_info['title'] = title\n",
    "        file_comp_info['score'] = round(df_in.iloc[i][filename],3)\n",
    "        file_comp_info['cites'] = df_in.iloc[i][df_in.columns[1]]\n",
    "        out_list.append(file_comp_info)\n",
    "    return out_list"
   ]
  },
  {
   "cell_type": "code",
   "execution_count": 126,
   "metadata": {},
   "outputs": [],
   "source": [
    "cdata = generateCompData(tdf,'Literature')"
   ]
  },
  {
   "cell_type": "code",
   "execution_count": 127,
   "metadata": {},
   "outputs": [
    {
     "data": {
      "text/plain": [
       "{'rank': 1,\n",
       " 'file': 'project_muse_553401',\n",
       " 'title': 'Skeptical Realism and Hume on the Self',\n",
       " 'score': 46.262,\n",
       " 'cites': 145.0}"
      ]
     },
     "execution_count": 127,
     "metadata": {},
     "output_type": "execute_result"
    }
   ],
   "source": [
    "cdata[0]"
   ]
  },
  {
   "cell_type": "code",
   "execution_count": 128,
   "metadata": {},
   "outputs": [
    {
     "data": {
      "text/plain": [
       "{'rank': 2,\n",
       " 'file': 'strawson-evident-connexion',\n",
       " 'title': 'The Evident Connexion',\n",
       " 'score': 69.13,\n",
       " 'cites': 330.0}"
      ]
     },
     "execution_count": 128,
     "metadata": {},
     "output_type": "execute_result"
    }
   ],
   "source": [
    "cdata[1]"
   ]
  },
  {
   "cell_type": "code",
   "execution_count": 129,
   "metadata": {},
   "outputs": [
    {
     "ename": "KeyError",
     "evalue": "'Literature'",
     "output_type": "error",
     "traceback": [
      "\u001b[0;31m---------------------------------------------------------------------------\u001b[0m",
      "\u001b[0;31mKeyError\u001b[0m                                  Traceback (most recent call last)",
      "\u001b[0;32m<ipython-input-129-645079167682>\u001b[0m in \u001b[0;36m<module>\u001b[0;34m\u001b[0m\n\u001b[0;32m----> 1\u001b[0;31m \u001b[0mfile_to_title_dict\u001b[0m\u001b[0;34m[\u001b[0m\u001b[0;34m'Literature'\u001b[0m\u001b[0;34m]\u001b[0m\u001b[0;34m\u001b[0m\u001b[0;34m\u001b[0m\u001b[0m\n\u001b[0m",
      "\u001b[0;31mKeyError\u001b[0m: 'Literature'"
     ]
    }
   ],
   "source": []
  },
  {
   "cell_type": "code",
   "execution_count": null,
   "metadata": {},
   "outputs": [],
   "source": []
  }
 ],
 "metadata": {
  "kernelspec": {
   "display_name": "Python 3",
   "language": "python",
   "name": "python3"
  },
  "language_info": {
   "codemirror_mode": {
    "name": "ipython",
    "version": 3
   },
   "file_extension": ".py",
   "mimetype": "text/x-python",
   "name": "python",
   "nbconvert_exporter": "python",
   "pygments_lexer": "ipython3",
   "version": "3.8.2"
  }
 },
 "nbformat": 4,
 "nbformat_minor": 4
}
