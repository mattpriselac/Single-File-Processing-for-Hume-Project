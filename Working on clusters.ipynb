{
 "cells": [
  {
   "cell_type": "code",
   "execution_count": 356,
   "metadata": {},
   "outputs": [],
   "source": [
    "import pandas as pd"
   ]
  },
  {
   "cell_type": "code",
   "execution_count": 357,
   "metadata": {},
   "outputs": [],
   "source": [
    "lit_df = pd.read_csv('overall_similarity_scores.csv')"
   ]
  },
  {
   "cell_type": "code",
   "execution_count": 358,
   "metadata": {},
   "outputs": [
    {
     "data": {
      "text/plain": [
       "<bound method NDFrame.describe of              Unnamed: 0  RelativeTotalCites  project_muse_388510  pq21-0324  \\\n",
       "0    RelativeTotalCites               0.000              135.070    147.029   \n",
       "1   project_muse_388510             135.070                0.000    135.297   \n",
       "2             pq21-0324             147.029              135.297      0.000   \n",
       "3   ContentServer.asp-5              99.998              100.000     99.995   \n",
       "4   ContentServer.asp-8              99.998              100.000     99.995   \n",
       "..                  ...                 ...                  ...        ...   \n",
       "82  project_muse_511194             195.562              194.446    189.745   \n",
       "83              3327575              99.998              100.000     99.995   \n",
       "84  project_muse_382726             180.314              185.540    199.975   \n",
       "85             24439665             168.369              181.607    190.464   \n",
       "86  project_muse_383319              99.998              100.000     99.995   \n",
       "\n",
       "    ContentServer.asp-5  ContentServer.asp-8  1398236  project_muse_439820  \\\n",
       "0                99.998               99.998   99.998              126.964   \n",
       "1               100.000              100.000  100.000              163.624   \n",
       "2                99.995               99.995   99.995              153.361   \n",
       "3                 0.000                0.000    0.000              100.008   \n",
       "4                 0.000                0.000    0.000              100.008   \n",
       "..                  ...                  ...      ...                  ...   \n",
       "82              100.000              100.000  100.000              191.874   \n",
       "83                0.000                0.000    0.000              100.008   \n",
       "84               99.980               99.980   99.980              198.030   \n",
       "85              100.025              100.025  100.025              177.713   \n",
       "86                0.000                0.000    0.000              100.008   \n",
       "\n",
       "    MURRAY-1993-Ethos  Gilead2008_Article_AHumeanArgumentForPersonalIden  ...  \\\n",
       "0              99.998                                             99.998  ...   \n",
       "1             100.000                                            100.000  ...   \n",
       "2              99.995                                             99.995  ...   \n",
       "3               0.000                                              0.000  ...   \n",
       "4               0.000                                              0.000  ...   \n",
       "..                ...                                                ...  ...   \n",
       "82            100.000                                            100.000  ...   \n",
       "83              0.000                                              0.000  ...   \n",
       "84             99.980                                             99.980  ...   \n",
       "85            100.025                                            100.025  ...   \n",
       "86              0.000                                              0.000  ...   \n",
       "\n",
       "    27745095  23598030  Prolegomena_11_2_2012_Article_Lybaert  \\\n",
       "0    126.165    99.998                                 99.998   \n",
       "1    153.865   100.000                                100.000   \n",
       "2    132.336    99.995                                 99.995   \n",
       "3     99.989     0.000                                  0.000   \n",
       "4     99.989     0.000                                  0.000   \n",
       "..       ...       ...                                    ...   \n",
       "82   195.163   100.000                                100.000   \n",
       "83    99.989     0.000                                  0.000   \n",
       "84   195.881    99.980                                 99.980   \n",
       "85   183.154   100.025                                100.025   \n",
       "86    99.989     0.000                                  0.000   \n",
       "\n",
       "    Projection and Realism in Hume s Philosophy  project_muse_382933  \\\n",
       "0                                        99.998              157.804   \n",
       "1                                       100.000              160.300   \n",
       "2                                        99.995              190.121   \n",
       "3                                         0.000               99.998   \n",
       "4                                         0.000               99.998   \n",
       "..                                          ...                  ...   \n",
       "82                                      100.000              198.764   \n",
       "83                                        0.000               99.998   \n",
       "84                                       99.980              193.908   \n",
       "85                                      100.025              190.281   \n",
       "86                                        0.000               99.998   \n",
       "\n",
       "    project_muse_511194  3327575  project_muse_382726  24439665  \\\n",
       "0               195.562   99.998              180.314   168.369   \n",
       "1               194.446  100.000              185.540   181.607   \n",
       "2               189.745   99.995              199.975   190.464   \n",
       "3               100.000    0.000               99.980   100.025   \n",
       "4               100.000    0.000               99.980   100.025   \n",
       "..                  ...      ...                  ...       ...   \n",
       "82                0.000  100.000              199.980   200.025   \n",
       "83              100.000    0.000               99.980   100.025   \n",
       "84              199.980   99.980                0.000   195.985   \n",
       "85              200.025  100.025              195.985     0.000   \n",
       "86              100.000    0.000               99.980   100.025   \n",
       "\n",
       "    project_muse_383319  \n",
       "0                99.998  \n",
       "1               100.000  \n",
       "2                99.995  \n",
       "3                 0.000  \n",
       "4                 0.000  \n",
       "..                  ...  \n",
       "82              100.000  \n",
       "83                0.000  \n",
       "84               99.980  \n",
       "85              100.025  \n",
       "86                0.000  \n",
       "\n",
       "[87 rows x 88 columns]>"
      ]
     },
     "execution_count": 358,
     "metadata": {},
     "output_type": "execute_result"
    }
   ],
   "source": [
    "lit_df.describe"
   ]
  },
  {
   "cell_type": "code",
   "execution_count": 359,
   "metadata": {},
   "outputs": [],
   "source": [
    "lit_df = lit_df.rename(columns={'Unnamed: 0':'Articles'})"
   ]
  },
  {
   "cell_type": "code",
   "execution_count": 360,
   "metadata": {},
   "outputs": [],
   "source": [
    "#generic formula for finding the value of a COLUMN at a given ROW based on the article name is:\n",
    "#lit_df.loc[lit_df['Articles']=='ROW_ARTICLE_NAME']['COLUMN_ARTICLE_NAME']"
   ]
  },
  {
   "cell_type": "code",
   "execution_count": 361,
   "metadata": {},
   "outputs": [],
   "source": [
    "lit_diffs = lit_df[['Articles','RelativeTotalCites']]"
   ]
  },
  {
   "cell_type": "code",
   "execution_count": 362,
   "metadata": {},
   "outputs": [
    {
     "data": {
      "text/html": [
       "<div>\n",
       "<style scoped>\n",
       "    .dataframe tbody tr th:only-of-type {\n",
       "        vertical-align: middle;\n",
       "    }\n",
       "\n",
       "    .dataframe tbody tr th {\n",
       "        vertical-align: top;\n",
       "    }\n",
       "\n",
       "    .dataframe thead th {\n",
       "        text-align: right;\n",
       "    }\n",
       "</style>\n",
       "<table border=\"1\" class=\"dataframe\">\n",
       "  <thead>\n",
       "    <tr style=\"text-align: right;\">\n",
       "      <th></th>\n",
       "      <th>Articles</th>\n",
       "      <th>RelativeTotalCites</th>\n",
       "    </tr>\n",
       "  </thead>\n",
       "  <tbody>\n",
       "    <tr>\n",
       "      <th>0</th>\n",
       "      <td>RelativeTotalCites</td>\n",
       "      <td>0.000</td>\n",
       "    </tr>\n",
       "    <tr>\n",
       "      <th>1</th>\n",
       "      <td>project_muse_388510</td>\n",
       "      <td>135.070</td>\n",
       "    </tr>\n",
       "    <tr>\n",
       "      <th>2</th>\n",
       "      <td>pq21-0324</td>\n",
       "      <td>147.029</td>\n",
       "    </tr>\n",
       "    <tr>\n",
       "      <th>3</th>\n",
       "      <td>ContentServer.asp-5</td>\n",
       "      <td>99.998</td>\n",
       "    </tr>\n",
       "    <tr>\n",
       "      <th>4</th>\n",
       "      <td>ContentServer.asp-8</td>\n",
       "      <td>99.998</td>\n",
       "    </tr>\n",
       "    <tr>\n",
       "      <th>...</th>\n",
       "      <td>...</td>\n",
       "      <td>...</td>\n",
       "    </tr>\n",
       "    <tr>\n",
       "      <th>82</th>\n",
       "      <td>project_muse_511194</td>\n",
       "      <td>195.562</td>\n",
       "    </tr>\n",
       "    <tr>\n",
       "      <th>83</th>\n",
       "      <td>3327575</td>\n",
       "      <td>99.998</td>\n",
       "    </tr>\n",
       "    <tr>\n",
       "      <th>84</th>\n",
       "      <td>project_muse_382726</td>\n",
       "      <td>180.314</td>\n",
       "    </tr>\n",
       "    <tr>\n",
       "      <th>85</th>\n",
       "      <td>24439665</td>\n",
       "      <td>168.369</td>\n",
       "    </tr>\n",
       "    <tr>\n",
       "      <th>86</th>\n",
       "      <td>project_muse_383319</td>\n",
       "      <td>99.998</td>\n",
       "    </tr>\n",
       "  </tbody>\n",
       "</table>\n",
       "<p>87 rows × 2 columns</p>\n",
       "</div>"
      ],
      "text/plain": [
       "               Articles  RelativeTotalCites\n",
       "0    RelativeTotalCites               0.000\n",
       "1   project_muse_388510             135.070\n",
       "2             pq21-0324             147.029\n",
       "3   ContentServer.asp-5              99.998\n",
       "4   ContentServer.asp-8              99.998\n",
       "..                  ...                 ...\n",
       "82  project_muse_511194             195.562\n",
       "83              3327575              99.998\n",
       "84  project_muse_382726             180.314\n",
       "85             24439665             168.369\n",
       "86  project_muse_383319              99.998\n",
       "\n",
       "[87 rows x 2 columns]"
      ]
     },
     "execution_count": 362,
     "metadata": {},
     "output_type": "execute_result"
    }
   ],
   "source": [
    "#this now is a selection of articles paired with their score relative to the entire literature. \n",
    "#to get a given article score you replace 'ARTICLE_NAME' in the following formula:\n",
    "# lit_diffs.loc[lit_diffs['Articles']=='ARTICLE_NAME']['RelativeTotalCites']\n",
    "lit_diffs"
   ]
  },
  {
   "cell_type": "code",
   "execution_count": 152,
   "metadata": {},
   "outputs": [
    {
     "data": {
      "text/plain": [
       "81    174.222\n",
       "Name: RelativeTotalCites, dtype: float64"
      ]
     },
     "execution_count": 152,
     "metadata": {},
     "output_type": "execute_result"
    }
   ],
   "source": [
    "#eg. This gets you the location\n",
    "lit_diffs.loc[lit_diffs['Articles']=='3327575-relative-score']['RelativeTotalCites']"
   ]
  },
  {
   "cell_type": "code",
   "execution_count": 153,
   "metadata": {},
   "outputs": [
    {
     "data": {
      "text/plain": [
       "174.22199999999995"
      ]
     },
     "execution_count": 153,
     "metadata": {},
     "output_type": "execute_result"
    }
   ],
   "source": [
    "#to get the value you then add .values[0] or .loc[0]\n",
    "lit_diffs.loc[lit_diffs['Articles']=='3327575-relative-score']['RelativeTotalCites'].values[0]"
   ]
  },
  {
   "cell_type": "code",
   "execution_count": 363,
   "metadata": {},
   "outputs": [
    {
     "data": {
      "text/plain": [
       "<matplotlib.axes._subplots.AxesSubplot at 0x12ba6c4f0>"
      ]
     },
     "execution_count": 363,
     "metadata": {},
     "output_type": "execute_result"
    },
    {
     "data": {
      "image/png": "[encoded data removed]",
      "text/plain": [
       "<Figure size 432x288 with 1 Axes>"
      ]
     },
     "metadata": {
      "needs_background": "light"
     },
     "output_type": "display_data"
    }
   ],
   "source": [
    "lit_diffs.sort_values('RelativeTotalCites').plot(kind=\"bar\")"
   ]
  },
  {
   "cell_type": "code",
   "execution_count": 213,
   "metadata": {},
   "outputs": [
    {
     "data": {
      "text/plain": [
       "Articles              out-relative-score\n",
       "RelativeTotalCites               121.345\n",
       "Name: 41, dtype: object"
      ]
     },
     "execution_count": 213,
     "metadata": {},
     "output_type": "execute_result"
    }
   ],
   "source": [
    "lit_diffs.sort_values('RelativeTotalCites').iloc[16]"
   ]
  },
  {
   "cell_type": "code",
   "execution_count": 386,
   "metadata": {},
   "outputs": [
    {
     "data": {
      "text/plain": [
       "<matplotlib.axes._subplots.AxesSubplot at 0x12bd0f2b0>"
      ]
     },
     "execution_count": 386,
     "metadata": {},
     "output_type": "execute_result"
    },
    {
     "data": {
      "image/png": "[encoded data removed]",
      "text/plain": [
       "<Figure size 432x288 with 1 Axes>"
      ]
     },
     "metadata": {
      "needs_background": "light"
     },
     "output_type": "display_data"
    }
   ],
   "source": [
    "lit_diffs.sort_values('RelativeTotalCites').plot.kde()"
   ]
  },
  {
   "cell_type": "code",
   "execution_count": 387,
   "metadata": {},
   "outputs": [
    {
     "data": {
      "text/plain": [
       "<matplotlib.axes._subplots.AxesSubplot at 0x12d18aaf0>"
      ]
     },
     "execution_count": 387,
     "metadata": {},
     "output_type": "execute_result"
    },
    {
     "data": {
      "image/png": "[encoded data removed]",
      "text/plain": [
       "<Figure size 432x288 with 1 Axes>"
      ]
     },
     "metadata": {
      "needs_background": "light"
     },
     "output_type": "display_data"
    }
   ],
   "source": [
    "lit_diffs['RelativeTotalCites'].sort_values().plot.bar()"
   ]
  },
  {
   "cell_type": "markdown",
   "metadata": {},
   "source": [
    "I think given how smooth this is, I can include 5 on either side as long as it's within five percent of the main article it's fine."
   ]
  },
  {
   "cell_type": "code",
   "execution_count": 257,
   "metadata": {},
   "outputs": [
    {
     "data": {
      "text/plain": [
       "174.22199999999995"
      ]
     },
     "execution_count": 257,
     "metadata": {},
     "output_type": "execute_result"
    }
   ],
   "source": [
    "lit_diffs.loc[lit_diffs['Articles']=='3327575-relative-score']\n",
    "lit_diffs.loc[lit_diffs['Articles']=='3327575-relative-score']['RelativeTotalCites'].values[0]"
   ]
  },
  {
   "cell_type": "code",
   "execution_count": 245,
   "metadata": {},
   "outputs": [
    {
     "data": {
      "text/plain": [
       "'2653404-2-relative-score'"
      ]
     },
     "execution_count": 245,
     "metadata": {},
     "output_type": "execute_result"
    }
   ],
   "source": [
    "lit_diffs['Articles'][15]"
   ]
  },
  {
   "cell_type": "markdown",
   "metadata": {},
   "source": [
    "To get the List of Similars, I think it would be good to do two things:\n",
    "First, get the articles within 5%\n",
    "Second, make sure those are all of the top matches in the individual article comparison"
   ]
  },
  {
   "cell_type": "code",
   "execution_count": 258,
   "metadata": {},
   "outputs": [
    {
     "data": {
      "text/plain": [
       "0                     RelativeTotalCites\n",
       "1     project_muse_388510-relative-score\n",
       "2               pq21-0324-relative-score\n",
       "3     ContentServer.asp-5-relative-score\n",
       "4     ContentServer.asp-8-relative-score\n",
       "                     ...                \n",
       "80    project_muse_511194-relative-score\n",
       "81                3327575-relative-score\n",
       "82    project_muse_382726-relative-score\n",
       "83               24439665-relative-score\n",
       "84    project_muse_383319-relative-score\n",
       "Name: Articles, Length: 85, dtype: object"
      ]
     },
     "execution_count": 258,
     "metadata": {},
     "output_type": "execute_result"
    }
   ],
   "source": [
    "lit_diffs['Articles']"
   ]
  },
  {
   "cell_type": "code",
   "execution_count": 276,
   "metadata": {},
   "outputs": [],
   "source": [
    "def get_most_similar(article_in_name):\n",
    "    #first, let's get all articles +/- 5% of overall score\n",
    "    article_row_filter = lit_diffs['Articles'] == article_in_name\n",
    "    relative_to_lit_score = lit_diffs.loc[article_row_filter]['RelativeTotalCites'].values[0]\n",
    "    comp_list = []\n",
    "    for comp_article in lit_diffs['Articles'].values:\n",
    "        comp_article_row_filter = lit_diffs['Articles'] == comp_article\n",
    "        comp_relative_to_lit_score = lit_diffs.loc[comp_article_row_filter]['RelativeTotalCites'].values[0]\n",
    "        if (.95 * relative_to_lit_score) <= comp_relative_to_lit_score <= (1.05 * relative_to_lit_score):\n",
    "            comp_list.append((comp_article, comp_relative_to_lit_score))\n",
    "    print(relative_to_lit_score)\n",
    "    return pd.DataFrame(comp_list, columns=['Articles','Scores']).sort_values('Scores')\n",
    "        "
   ]
  },
  {
   "cell_type": "code",
   "execution_count": 277,
   "metadata": {},
   "outputs": [
    {
     "name": "stdout",
     "output_type": "stream",
     "text": [
      "154.73399999999882\n"
     ]
    },
    {
     "data": {
      "text/html": [
       "<div>\n",
       "<style scoped>\n",
       "    .dataframe tbody tr th:only-of-type {\n",
       "        vertical-align: middle;\n",
       "    }\n",
       "\n",
       "    .dataframe tbody tr th {\n",
       "        vertical-align: top;\n",
       "    }\n",
       "\n",
       "    .dataframe thead th {\n",
       "        text-align: right;\n",
       "    }\n",
       "</style>\n",
       "<table border=\"1\" class=\"dataframe\">\n",
       "  <thead>\n",
       "    <tr style=\"text-align: right;\">\n",
       "      <th></th>\n",
       "      <th>Articles</th>\n",
       "      <th>Scores</th>\n",
       "    </tr>\n",
       "  </thead>\n",
       "  <tbody>\n",
       "    <tr>\n",
       "      <th>5</th>\n",
       "      <td>27744766-relative-score</td>\n",
       "      <td>147.219</td>\n",
       "    </tr>\n",
       "    <tr>\n",
       "      <th>4</th>\n",
       "      <td>acpq_1990_0064_0002_0233_0247-relative-score</td>\n",
       "      <td>148.787</td>\n",
       "    </tr>\n",
       "    <tr>\n",
       "      <th>6</th>\n",
       "      <td>41441496-relative-score</td>\n",
       "      <td>150.441</td>\n",
       "    </tr>\n",
       "    <tr>\n",
       "      <th>1</th>\n",
       "      <td>WINKLER-2010-Philosophical_Books-relative-score</td>\n",
       "      <td>153.057</td>\n",
       "    </tr>\n",
       "    <tr>\n",
       "      <th>0</th>\n",
       "      <td>ContentServer.asp-6-relative-score</td>\n",
       "      <td>153.341</td>\n",
       "    </tr>\n",
       "    <tr>\n",
       "      <th>7</th>\n",
       "      <td>project_muse_388509-relative-score</td>\n",
       "      <td>153.973</td>\n",
       "    </tr>\n",
       "    <tr>\n",
       "      <th>9</th>\n",
       "      <td>project_muse_383344-relative-score</td>\n",
       "      <td>154.734</td>\n",
       "    </tr>\n",
       "    <tr>\n",
       "      <th>8</th>\n",
       "      <td>Kail-2008-European_Journal_of_Philosophy-relat...</td>\n",
       "      <td>158.430</td>\n",
       "    </tr>\n",
       "    <tr>\n",
       "      <th>2</th>\n",
       "      <td>pq9-0097-relative-score</td>\n",
       "      <td>159.774</td>\n",
       "    </tr>\n",
       "    <tr>\n",
       "      <th>3</th>\n",
       "      <td>1399612-relative-score</td>\n",
       "      <td>161.424</td>\n",
       "    </tr>\n",
       "  </tbody>\n",
       "</table>\n",
       "</div>"
      ],
      "text/plain": [
       "                                            Articles   Scores\n",
       "5                            27744766-relative-score  147.219\n",
       "4       acpq_1990_0064_0002_0233_0247-relative-score  148.787\n",
       "6                            41441496-relative-score  150.441\n",
       "1    WINKLER-2010-Philosophical_Books-relative-score  153.057\n",
       "0                 ContentServer.asp-6-relative-score  153.341\n",
       "7                 project_muse_388509-relative-score  153.973\n",
       "9                 project_muse_383344-relative-score  154.734\n",
       "8  Kail-2008-European_Journal_of_Philosophy-relat...  158.430\n",
       "2                            pq9-0097-relative-score  159.774\n",
       "3                             1399612-relative-score  161.424"
      ]
     },
     "execution_count": 277,
     "metadata": {},
     "output_type": "execute_result"
    }
   ],
   "source": [
    "get_most_similar('project_muse_383344-relative-score')"
   ]
  },
  {
   "cell_type": "code",
   "execution_count": 278,
   "metadata": {},
   "outputs": [
    {
     "name": "stdout",
     "output_type": "stream",
     "text": [
      "161.42399999999873\n"
     ]
    },
    {
     "data": {
      "text/html": [
       "<div>\n",
       "<style scoped>\n",
       "    .dataframe tbody tr th:only-of-type {\n",
       "        vertical-align: middle;\n",
       "    }\n",
       "\n",
       "    .dataframe tbody tr th {\n",
       "        vertical-align: top;\n",
       "    }\n",
       "\n",
       "    .dataframe thead th {\n",
       "        text-align: right;\n",
       "    }\n",
       "</style>\n",
       "<table border=\"1\" class=\"dataframe\">\n",
       "  <thead>\n",
       "    <tr style=\"text-align: right;\">\n",
       "      <th></th>\n",
       "      <th>Articles</th>\n",
       "      <th>Scores</th>\n",
       "    </tr>\n",
       "  </thead>\n",
       "  <tbody>\n",
       "    <tr>\n",
       "      <th>6</th>\n",
       "      <td>project_muse_388509-relative-score</td>\n",
       "      <td>153.973</td>\n",
       "    </tr>\n",
       "    <tr>\n",
       "      <th>10</th>\n",
       "      <td>project_muse_383344-relative-score</td>\n",
       "      <td>154.734</td>\n",
       "    </tr>\n",
       "    <tr>\n",
       "      <th>7</th>\n",
       "      <td>Kail-2008-European_Journal_of_Philosophy-relat...</td>\n",
       "      <td>158.430</td>\n",
       "    </tr>\n",
       "    <tr>\n",
       "      <th>3</th>\n",
       "      <td>pq9-0097-relative-score</td>\n",
       "      <td>159.774</td>\n",
       "    </tr>\n",
       "    <tr>\n",
       "      <th>4</th>\n",
       "      <td>1399612-relative-score</td>\n",
       "      <td>161.424</td>\n",
       "    </tr>\n",
       "    <tr>\n",
       "      <th>0</th>\n",
       "      <td>project_muse_388510-relative-score</td>\n",
       "      <td>162.771</td>\n",
       "    </tr>\n",
       "    <tr>\n",
       "      <th>11</th>\n",
       "      <td>ContentServer.asp-4-relative-score</td>\n",
       "      <td>163.953</td>\n",
       "    </tr>\n",
       "    <tr>\n",
       "      <th>1</th>\n",
       "      <td>humes_theory_of_the_self_and_its_identity-rela...</td>\n",
       "      <td>164.249</td>\n",
       "    </tr>\n",
       "    <tr>\n",
       "      <th>9</th>\n",
       "      <td>20708617-relative-score</td>\n",
       "      <td>164.322</td>\n",
       "    </tr>\n",
       "    <tr>\n",
       "      <th>12</th>\n",
       "      <td>24439665-relative-score</td>\n",
       "      <td>165.667</td>\n",
       "    </tr>\n",
       "    <tr>\n",
       "      <th>8</th>\n",
       "      <td>ipq_2004_0044_0002_0276_0278&amp;pdfname=ipq_2004_...</td>\n",
       "      <td>166.383</td>\n",
       "    </tr>\n",
       "    <tr>\n",
       "      <th>2</th>\n",
       "      <td>pq30-0061-relative-score</td>\n",
       "      <td>166.652</td>\n",
       "    </tr>\n",
       "    <tr>\n",
       "      <th>5</th>\n",
       "      <td>project_muse_389493-relative-score</td>\n",
       "      <td>166.742</td>\n",
       "    </tr>\n",
       "  </tbody>\n",
       "</table>\n",
       "</div>"
      ],
      "text/plain": [
       "                                             Articles   Scores\n",
       "6                  project_muse_388509-relative-score  153.973\n",
       "10                 project_muse_383344-relative-score  154.734\n",
       "7   Kail-2008-European_Journal_of_Philosophy-relat...  158.430\n",
       "3                             pq9-0097-relative-score  159.774\n",
       "4                              1399612-relative-score  161.424\n",
       "0                  project_muse_388510-relative-score  162.771\n",
       "11                 ContentServer.asp-4-relative-score  163.953\n",
       "1   humes_theory_of_the_self_and_its_identity-rela...  164.249\n",
       "9                             20708617-relative-score  164.322\n",
       "12                            24439665-relative-score  165.667\n",
       "8   ipq_2004_0044_0002_0276_0278&pdfname=ipq_2004_...  166.383\n",
       "2                            pq30-0061-relative-score  166.652\n",
       "5                  project_muse_389493-relative-score  166.742"
      ]
     },
     "execution_count": 278,
     "metadata": {},
     "output_type": "execute_result"
    }
   ],
   "source": [
    "get_most_similar('1399612-relative-score')"
   ]
  },
  {
   "cell_type": "code",
   "execution_count": 284,
   "metadata": {},
   "outputs": [],
   "source": [
    "test_article_w_article_names = lit_df[['Articles', 'project_muse_383344-relative-score']]"
   ]
  },
  {
   "cell_type": "code",
   "execution_count": 298,
   "metadata": {},
   "outputs": [],
   "source": [
    "only_over_100 = test_article_w_article_names.loc[test_article_w_article_names['project_muse_383344-relative-score']>100].sort_values('project_muse_383344-relative-score')"
   ]
  },
  {
   "cell_type": "code",
   "execution_count": 299,
   "metadata": {},
   "outputs": [
    {
     "data": {
      "text/html": [
       "<div>\n",
       "<style scoped>\n",
       "    .dataframe tbody tr th:only-of-type {\n",
       "        vertical-align: middle;\n",
       "    }\n",
       "\n",
       "    .dataframe tbody tr th {\n",
       "        vertical-align: top;\n",
       "    }\n",
       "\n",
       "    .dataframe thead th {\n",
       "        text-align: right;\n",
       "    }\n",
       "</style>\n",
       "<table border=\"1\" class=\"dataframe\">\n",
       "  <thead>\n",
       "    <tr style=\"text-align: right;\">\n",
       "      <th></th>\n",
       "      <th>Articles</th>\n",
       "      <th>project_muse_383344-relative-score</th>\n",
       "    </tr>\n",
       "  </thead>\n",
       "  <tbody>\n",
       "    <tr>\n",
       "      <th>6</th>\n",
       "      <td>project_muse_439820-relative-score</td>\n",
       "      <td>136.626</td>\n",
       "    </tr>\n",
       "    <tr>\n",
       "      <th>64</th>\n",
       "      <td>project_muse_596651-relative-score</td>\n",
       "      <td>138.502</td>\n",
       "    </tr>\n",
       "    <tr>\n",
       "      <th>68</th>\n",
       "      <td>9780470776377.ch8-relative-score</td>\n",
       "      <td>139.280</td>\n",
       "    </tr>\n",
       "    <tr>\n",
       "      <th>10</th>\n",
       "      <td>humes_theory_of_the_self_and_its_identity-rela...</td>\n",
       "      <td>139.705</td>\n",
       "    </tr>\n",
       "    <tr>\n",
       "      <th>30</th>\n",
       "      <td>project_muse_403836-relative-score</td>\n",
       "      <td>145.843</td>\n",
       "    </tr>\n",
       "    <tr>\n",
       "      <th>...</th>\n",
       "      <td>...</td>\n",
       "      <td>...</td>\n",
       "    </tr>\n",
       "    <tr>\n",
       "      <th>56</th>\n",
       "      <td>2106947-relative-score</td>\n",
       "      <td>199.991</td>\n",
       "    </tr>\n",
       "    <tr>\n",
       "      <th>84</th>\n",
       "      <td>project_muse_383319-relative-score</td>\n",
       "      <td>199.992</td>\n",
       "    </tr>\n",
       "    <tr>\n",
       "      <th>70</th>\n",
       "      <td>ContentServer.asp-7-relative-score</td>\n",
       "      <td>199.993</td>\n",
       "    </tr>\n",
       "    <tr>\n",
       "      <th>3</th>\n",
       "      <td>ContentServer.asp-5-relative-score</td>\n",
       "      <td>199.993</td>\n",
       "    </tr>\n",
       "    <tr>\n",
       "      <th>23</th>\n",
       "      <td>project_muse_227867-relative-score</td>\n",
       "      <td>199.994</td>\n",
       "    </tr>\n",
       "  </tbody>\n",
       "</table>\n",
       "<p>70 rows × 2 columns</p>\n",
       "</div>"
      ],
      "text/plain": [
       "                                             Articles  \\\n",
       "6                  project_muse_439820-relative-score   \n",
       "64                 project_muse_596651-relative-score   \n",
       "68                   9780470776377.ch8-relative-score   \n",
       "10  humes_theory_of_the_self_and_its_identity-rela...   \n",
       "30                 project_muse_403836-relative-score   \n",
       "..                                                ...   \n",
       "56                             2106947-relative-score   \n",
       "84                 project_muse_383319-relative-score   \n",
       "70                 ContentServer.asp-7-relative-score   \n",
       "3                  ContentServer.asp-5-relative-score   \n",
       "23                 project_muse_227867-relative-score   \n",
       "\n",
       "    project_muse_383344-relative-score  \n",
       "6                              136.626  \n",
       "64                             138.502  \n",
       "68                             139.280  \n",
       "10                             139.705  \n",
       "30                             145.843  \n",
       "..                                 ...  \n",
       "56                             199.991  \n",
       "84                             199.992  \n",
       "70                             199.993  \n",
       "3                              199.993  \n",
       "23                             199.994  \n",
       "\n",
       "[70 rows x 2 columns]"
      ]
     },
     "execution_count": 299,
     "metadata": {},
     "output_type": "execute_result"
    }
   ],
   "source": [
    "only_over_100"
   ]
  },
  {
   "cell_type": "code",
   "execution_count": 316,
   "metadata": {},
   "outputs": [
    {
     "name": "stdout",
     "output_type": "stream",
     "text": [
      "194.6339999999989\n"
     ]
    },
    {
     "data": {
      "text/html": [
       "<div>\n",
       "<style scoped>\n",
       "    .dataframe tbody tr th:only-of-type {\n",
       "        vertical-align: middle;\n",
       "    }\n",
       "\n",
       "    .dataframe tbody tr th {\n",
       "        vertical-align: top;\n",
       "    }\n",
       "\n",
       "    .dataframe thead th {\n",
       "        text-align: right;\n",
       "    }\n",
       "</style>\n",
       "<table border=\"1\" class=\"dataframe\">\n",
       "  <thead>\n",
       "    <tr style=\"text-align: right;\">\n",
       "      <th></th>\n",
       "      <th>Articles</th>\n",
       "      <th>Scores</th>\n",
       "    </tr>\n",
       "  </thead>\n",
       "  <tbody>\n",
       "    <tr>\n",
       "      <th>5</th>\n",
       "      <td>2653404-2-relative-score</td>\n",
       "      <td>185.758</td>\n",
       "    </tr>\n",
       "    <tr>\n",
       "      <th>8</th>\n",
       "      <td>project_muse_391081-relative-score</td>\n",
       "      <td>186.578</td>\n",
       "    </tr>\n",
       "    <tr>\n",
       "      <th>9</th>\n",
       "      <td>project_muse_227867-relative-score</td>\n",
       "      <td>186.820</td>\n",
       "    </tr>\n",
       "    <tr>\n",
       "      <th>7</th>\n",
       "      <td>fzt013-relative-score</td>\n",
       "      <td>187.726</td>\n",
       "    </tr>\n",
       "    <tr>\n",
       "      <th>3</th>\n",
       "      <td>acpq_1995_0069_0003_0485_0501&amp;pdfname=acpq_199...</td>\n",
       "      <td>188.087</td>\n",
       "    </tr>\n",
       "    <tr>\n",
       "      <th>12</th>\n",
       "      <td>ContentServer.asp-3-relative-score</td>\n",
       "      <td>188.548</td>\n",
       "    </tr>\n",
       "    <tr>\n",
       "      <th>23</th>\n",
       "      <td>Prolegomena_11_2_2012_Article_Lybaert-relative...</td>\n",
       "      <td>189.149</td>\n",
       "    </tr>\n",
       "    <tr>\n",
       "      <th>11</th>\n",
       "      <td>20131803-relative-score</td>\n",
       "      <td>189.464</td>\n",
       "    </tr>\n",
       "    <tr>\n",
       "      <th>1</th>\n",
       "      <td>ContentServer.asp-8-relative-score</td>\n",
       "      <td>189.685</td>\n",
       "    </tr>\n",
       "    <tr>\n",
       "      <th>14</th>\n",
       "      <td>Projection and Realism in Hume's Philosophy co...</td>\n",
       "      <td>190.681</td>\n",
       "    </tr>\n",
       "    <tr>\n",
       "      <th>6</th>\n",
       "      <td>project_muse_388443-relative-score</td>\n",
       "      <td>191.126</td>\n",
       "    </tr>\n",
       "    <tr>\n",
       "      <th>21</th>\n",
       "      <td>project_muse_385510-relative-score</td>\n",
       "      <td>191.663</td>\n",
       "    </tr>\n",
       "    <tr>\n",
       "      <th>17</th>\n",
       "      <td>2106947-relative-score</td>\n",
       "      <td>192.135</td>\n",
       "    </tr>\n",
       "    <tr>\n",
       "      <th>25</th>\n",
       "      <td>project_muse_511194-relative-score</td>\n",
       "      <td>194.070</td>\n",
       "    </tr>\n",
       "    <tr>\n",
       "      <th>26</th>\n",
       "      <td>project_muse_383319-relative-score</td>\n",
       "      <td>194.634</td>\n",
       "    </tr>\n",
       "    <tr>\n",
       "      <th>2</th>\n",
       "      <td>Gilead2008_Article_AHumeanArgumentForPersonalI...</td>\n",
       "      <td>194.767</td>\n",
       "    </tr>\n",
       "    <tr>\n",
       "      <th>22</th>\n",
       "      <td>ContentServer.asp-7-relative-score</td>\n",
       "      <td>196.263</td>\n",
       "    </tr>\n",
       "    <tr>\n",
       "      <th>0</th>\n",
       "      <td>ContentServer.asp-5-relative-score</td>\n",
       "      <td>196.263</td>\n",
       "    </tr>\n",
       "    <tr>\n",
       "      <th>13</th>\n",
       "      <td>project_muse_399569-relative-score</td>\n",
       "      <td>196.327</td>\n",
       "    </tr>\n",
       "    <tr>\n",
       "      <th>19</th>\n",
       "      <td>project_muse_365207-relative-score</td>\n",
       "      <td>197.179</td>\n",
       "    </tr>\n",
       "    <tr>\n",
       "      <th>20</th>\n",
       "      <td>26303717-relative-score</td>\n",
       "      <td>198.413</td>\n",
       "    </tr>\n",
       "    <tr>\n",
       "      <th>15</th>\n",
       "      <td>project_muse_389389-relative-score</td>\n",
       "      <td>198.982</td>\n",
       "    </tr>\n",
       "    <tr>\n",
       "      <th>16</th>\n",
       "      <td>43155096-relative-score</td>\n",
       "      <td>198.985</td>\n",
       "    </tr>\n",
       "    <tr>\n",
       "      <th>4</th>\n",
       "      <td>Flage_et_al-1984-The_Southern_Journal_of_Philo...</td>\n",
       "      <td>199.513</td>\n",
       "    </tr>\n",
       "    <tr>\n",
       "      <th>24</th>\n",
       "      <td>project_muse_382933-relative-score</td>\n",
       "      <td>199.569</td>\n",
       "    </tr>\n",
       "    <tr>\n",
       "      <th>18</th>\n",
       "      <td>2239-Article Text-2582-1-10-20140925-relative-...</td>\n",
       "      <td>199.789</td>\n",
       "    </tr>\n",
       "    <tr>\n",
       "      <th>10</th>\n",
       "      <td>project_muse_390704-relative-score</td>\n",
       "      <td>199.927</td>\n",
       "    </tr>\n",
       "  </tbody>\n",
       "</table>\n",
       "</div>"
      ],
      "text/plain": [
       "                                             Articles   Scores\n",
       "5                            2653404-2-relative-score  185.758\n",
       "8                  project_muse_391081-relative-score  186.578\n",
       "9                  project_muse_227867-relative-score  186.820\n",
       "7                               fzt013-relative-score  187.726\n",
       "3   acpq_1995_0069_0003_0485_0501&pdfname=acpq_199...  188.087\n",
       "12                 ContentServer.asp-3-relative-score  188.548\n",
       "23  Prolegomena_11_2_2012_Article_Lybaert-relative...  189.149\n",
       "11                            20131803-relative-score  189.464\n",
       "1                  ContentServer.asp-8-relative-score  189.685\n",
       "14  Projection and Realism in Hume's Philosophy co...  190.681\n",
       "6                  project_muse_388443-relative-score  191.126\n",
       "21                 project_muse_385510-relative-score  191.663\n",
       "17                             2106947-relative-score  192.135\n",
       "25                 project_muse_511194-relative-score  194.070\n",
       "26                 project_muse_383319-relative-score  194.634\n",
       "2   Gilead2008_Article_AHumeanArgumentForPersonalI...  194.767\n",
       "22                 ContentServer.asp-7-relative-score  196.263\n",
       "0                  ContentServer.asp-5-relative-score  196.263\n",
       "13                 project_muse_399569-relative-score  196.327\n",
       "19                 project_muse_365207-relative-score  197.179\n",
       "20                            26303717-relative-score  198.413\n",
       "15                 project_muse_389389-relative-score  198.982\n",
       "16                            43155096-relative-score  198.985\n",
       "4   Flage_et_al-1984-The_Southern_Journal_of_Philo...  199.513\n",
       "24                 project_muse_382933-relative-score  199.569\n",
       "18  2239-Article Text-2582-1-10-20140925-relative-...  199.789\n",
       "10                 project_muse_390704-relative-score  199.927"
      ]
     },
     "execution_count": 316,
     "metadata": {},
     "output_type": "execute_result"
    }
   ],
   "source": [
    "get_most_similar('project_muse_383319-relative-score')"
   ]
  },
  {
   "cell_type": "code",
   "execution_count": 308,
   "metadata": {},
   "outputs": [],
   "source": [
    "def test_diff(d_a,d_b):\n",
    "    total_difference = 0\n",
    "    for para in d_a.keys():\n",
    "        print(str(d_a[para]), 'minus', str(d_b[para]), 'is', str(abs(d_a[para] - d_b[para])))\n",
    "        total_difference += abs(d_a[para] - d_b[para])\n",
    "    return total_difference"
   ]
  },
  {
   "cell_type": "code",
   "execution_count": 315,
   "metadata": {},
   "outputs": [
    {
     "name": "stdout",
     "output_type": "stream",
     "text": [
      "0 minus 1 is 1\n",
      "0.5 minus 0 is 0.5\n",
      "0.1 minus 0 is 0.1\n",
      "0.4 minus 0 is 0.4\n"
     ]
    },
    {
     "data": {
      "text/plain": [
       "2.0"
      ]
     },
     "execution_count": 315,
     "metadata": {},
     "output_type": "execute_result"
    }
   ],
   "source": [
    "a_dict = {'a': 0, 'b': .5, 'c': .1, 'd': .4}\n",
    "b_dict = {'a': 0, 'b': 0, 'c': 0, 'd': 0}\n",
    "test_diff(a_dict, b_dict)"
   ]
  },
  {
   "cell_type": "code",
   "execution_count": 323,
   "metadata": {},
   "outputs": [
    {
     "data": {
      "text/html": [
       "<div>\n",
       "<style scoped>\n",
       "    .dataframe tbody tr th:only-of-type {\n",
       "        vertical-align: middle;\n",
       "    }\n",
       "\n",
       "    .dataframe tbody tr th {\n",
       "        vertical-align: top;\n",
       "    }\n",
       "\n",
       "    .dataframe thead th {\n",
       "        text-align: right;\n",
       "    }\n",
       "</style>\n",
       "<table border=\"1\" class=\"dataframe\">\n",
       "  <thead>\n",
       "    <tr style=\"text-align: right;\">\n",
       "      <th></th>\n",
       "      <th>Articles</th>\n",
       "      <th>RelativeTotalCites</th>\n",
       "    </tr>\n",
       "  </thead>\n",
       "  <tbody>\n",
       "    <tr>\n",
       "      <th>27</th>\n",
       "      <td>project_muse_390704-relative-score</td>\n",
       "      <td>199.927</td>\n",
       "    </tr>\n",
       "  </tbody>\n",
       "</table>\n",
       "</div>"
      ],
      "text/plain": [
       "                              Articles  RelativeTotalCites\n",
       "27  project_muse_390704-relative-score             199.927"
      ]
     },
     "execution_count": 323,
     "metadata": {},
     "output_type": "execute_result"
    }
   ],
   "source": [
    "lit_diffs.sort_values('RelativeTotalCites')[-1:]"
   ]
  },
  {
   "cell_type": "code",
   "execution_count": 364,
   "metadata": {},
   "outputs": [],
   "source": [
    "cite_counter = pd.read_csv('cite_counts.csv', names=[\"Article\", \"Cite Count\"])"
   ]
  },
  {
   "cell_type": "code",
   "execution_count": 365,
   "metadata": {},
   "outputs": [
    {
     "data": {
      "text/plain": [
       "Index(['Article', 'Cite Count'], dtype='object')"
      ]
     },
     "execution_count": 365,
     "metadata": {},
     "output_type": "execute_result"
    }
   ],
   "source": [
    "cite_counter.columns"
   ]
  },
  {
   "cell_type": "code",
   "execution_count": 366,
   "metadata": {},
   "outputs": [
    {
     "data": {
      "text/html": [
       "<div>\n",
       "<style scoped>\n",
       "    .dataframe tbody tr th:only-of-type {\n",
       "        vertical-align: middle;\n",
       "    }\n",
       "\n",
       "    .dataframe tbody tr th {\n",
       "        vertical-align: top;\n",
       "    }\n",
       "\n",
       "    .dataframe thead th {\n",
       "        text-align: right;\n",
       "    }\n",
       "</style>\n",
       "<table border=\"1\" class=\"dataframe\">\n",
       "  <thead>\n",
       "    <tr style=\"text-align: right;\">\n",
       "      <th></th>\n",
       "      <th>Article</th>\n",
       "      <th>Cite Count</th>\n",
       "    </tr>\n",
       "  </thead>\n",
       "  <tbody>\n",
       "    <tr>\n",
       "      <th>0</th>\n",
       "      <td>1399612</td>\n",
       "      <td>0</td>\n",
       "    </tr>\n",
       "    <tr>\n",
       "      <th>33</th>\n",
       "      <td>20131803</td>\n",
       "      <td>0</td>\n",
       "    </tr>\n",
       "    <tr>\n",
       "      <th>35</th>\n",
       "      <td>SIRTCO.1</td>\n",
       "      <td>0</td>\n",
       "    </tr>\n",
       "    <tr>\n",
       "      <th>40</th>\n",
       "      <td>project_muse_389409</td>\n",
       "      <td>0</td>\n",
       "    </tr>\n",
       "    <tr>\n",
       "      <th>41</th>\n",
       "      <td>pq30-0061</td>\n",
       "      <td>0</td>\n",
       "    </tr>\n",
       "    <tr>\n",
       "      <th>...</th>\n",
       "      <td>...</td>\n",
       "      <td>...</td>\n",
       "    </tr>\n",
       "    <tr>\n",
       "      <th>66</th>\n",
       "      <td>project_muse_383386</td>\n",
       "      <td>124</td>\n",
       "    </tr>\n",
       "    <tr>\n",
       "      <th>2</th>\n",
       "      <td>project_muse_596651</td>\n",
       "      <td>128</td>\n",
       "    </tr>\n",
       "    <tr>\n",
       "      <th>19</th>\n",
       "      <td>out</td>\n",
       "      <td>196</td>\n",
       "    </tr>\n",
       "    <tr>\n",
       "      <th>44</th>\n",
       "      <td>project_muse_553401</td>\n",
       "      <td>241</td>\n",
       "    </tr>\n",
       "    <tr>\n",
       "      <th>51</th>\n",
       "      <td>533Cottrell</td>\n",
       "      <td>341</td>\n",
       "    </tr>\n",
       "  </tbody>\n",
       "</table>\n",
       "<p>86 rows × 2 columns</p>\n",
       "</div>"
      ],
      "text/plain": [
       "                Article  Cite Count\n",
       "0               1399612           0\n",
       "33             20131803           0\n",
       "35             SIRTCO.1           0\n",
       "40  project_muse_389409           0\n",
       "41            pq30-0061           0\n",
       "..                  ...         ...\n",
       "66  project_muse_383386         124\n",
       "2   project_muse_596651         128\n",
       "19                  out         196\n",
       "44  project_muse_553401         241\n",
       "51          533Cottrell         341\n",
       "\n",
       "[86 rows x 2 columns]"
      ]
     },
     "execution_count": 366,
     "metadata": {},
     "output_type": "execute_result"
    }
   ],
   "source": [
    "cite_counter.sort_values('Cite Count')"
   ]
  },
  {
   "cell_type": "code",
   "execution_count": 367,
   "metadata": {},
   "outputs": [],
   "source": [
    "zero_rows = cite_counter.loc[cite_counter['Cite Count']==0]"
   ]
  },
  {
   "cell_type": "code",
   "execution_count": 368,
   "metadata": {},
   "outputs": [
    {
     "data": {
      "text/html": [
       "<div>\n",
       "<style scoped>\n",
       "    .dataframe tbody tr th:only-of-type {\n",
       "        vertical-align: middle;\n",
       "    }\n",
       "\n",
       "    .dataframe tbody tr th {\n",
       "        vertical-align: top;\n",
       "    }\n",
       "\n",
       "    .dataframe thead th {\n",
       "        text-align: right;\n",
       "    }\n",
       "</style>\n",
       "<table border=\"1\" class=\"dataframe\">\n",
       "  <thead>\n",
       "    <tr style=\"text-align: right;\">\n",
       "      <th></th>\n",
       "      <th>Article</th>\n",
       "      <th>Cite Count</th>\n",
       "    </tr>\n",
       "  </thead>\n",
       "  <tbody>\n",
       "    <tr>\n",
       "      <th>45</th>\n",
       "      <td>2239-Article Text-2582-1-10-20140925</td>\n",
       "      <td>1</td>\n",
       "    </tr>\n",
       "    <tr>\n",
       "      <th>49</th>\n",
       "      <td>project_muse_511194</td>\n",
       "      <td>1</td>\n",
       "    </tr>\n",
       "    <tr>\n",
       "      <th>34</th>\n",
       "      <td>project_muse_389389</td>\n",
       "      <td>1</td>\n",
       "    </tr>\n",
       "    <tr>\n",
       "      <th>5</th>\n",
       "      <td>20126883</td>\n",
       "      <td>1</td>\n",
       "    </tr>\n",
       "    <tr>\n",
       "      <th>7</th>\n",
       "      <td>project_muse_382681</td>\n",
       "      <td>1</td>\n",
       "    </tr>\n",
       "    <tr>\n",
       "      <th>11</th>\n",
       "      <td>fshow</td>\n",
       "      <td>1</td>\n",
       "    </tr>\n",
       "    <tr>\n",
       "      <th>18</th>\n",
       "      <td>acpq_1990_0064_0002_0233_0247</td>\n",
       "      <td>1</td>\n",
       "    </tr>\n",
       "    <tr>\n",
       "      <th>30</th>\n",
       "      <td>Levin2007_Article_BundlingHumeWithKripkenstein</td>\n",
       "      <td>4</td>\n",
       "    </tr>\n",
       "    <tr>\n",
       "      <th>17</th>\n",
       "      <td>project_muse_388509</td>\n",
       "      <td>4</td>\n",
       "    </tr>\n",
       "    <tr>\n",
       "      <th>39</th>\n",
       "      <td>2660181</td>\n",
       "      <td>4</td>\n",
       "    </tr>\n",
       "    <tr>\n",
       "      <th>27</th>\n",
       "      <td>ipq_2004_0044_0002_0276_0278&amp;pdfname=ipq_2004_...</td>\n",
       "      <td>5</td>\n",
       "    </tr>\n",
       "    <tr>\n",
       "      <th>78</th>\n",
       "      <td>ContentServer.asp-3</td>\n",
       "      <td>6</td>\n",
       "    </tr>\n",
       "    <tr>\n",
       "      <th>64</th>\n",
       "      <td>Projection and Realism in Hume's Philosophy co...</td>\n",
       "      <td>7</td>\n",
       "    </tr>\n",
       "    <tr>\n",
       "      <th>25</th>\n",
       "      <td>20708617</td>\n",
       "      <td>7</td>\n",
       "    </tr>\n",
       "    <tr>\n",
       "      <th>58</th>\n",
       "      <td>ContentServer.asp-6</td>\n",
       "      <td>11</td>\n",
       "    </tr>\n",
       "    <tr>\n",
       "      <th>81</th>\n",
       "      <td>project_muse_390704</td>\n",
       "      <td>12</td>\n",
       "    </tr>\n",
       "    <tr>\n",
       "      <th>13</th>\n",
       "      <td>pq21-0324</td>\n",
       "      <td>13</td>\n",
       "    </tr>\n",
       "    <tr>\n",
       "      <th>54</th>\n",
       "      <td>project_muse_388510</td>\n",
       "      <td>15</td>\n",
       "    </tr>\n",
       "    <tr>\n",
       "      <th>9</th>\n",
       "      <td>WINKLER-2010-Philosophical_Books</td>\n",
       "      <td>16</td>\n",
       "    </tr>\n",
       "    <tr>\n",
       "      <th>60</th>\n",
       "      <td>Flage_et_al-1984-The_Southern_Journal_of_Philo...</td>\n",
       "      <td>17</td>\n",
       "    </tr>\n",
       "    <tr>\n",
       "      <th>56</th>\n",
       "      <td>project_muse_382933</td>\n",
       "      <td>18</td>\n",
       "    </tr>\n",
       "    <tr>\n",
       "      <th>6</th>\n",
       "      <td>20532746</td>\n",
       "      <td>18</td>\n",
       "    </tr>\n",
       "    <tr>\n",
       "      <th>21</th>\n",
       "      <td>Schwerin2012_Article_HumeOnTheSelf</td>\n",
       "      <td>18</td>\n",
       "    </tr>\n",
       "    <tr>\n",
       "      <th>3</th>\n",
       "      <td>2184977</td>\n",
       "      <td>19</td>\n",
       "    </tr>\n",
       "    <tr>\n",
       "      <th>79</th>\n",
       "      <td>24439665</td>\n",
       "      <td>21</td>\n",
       "    </tr>\n",
       "    <tr>\n",
       "      <th>71</th>\n",
       "      <td>41441496</td>\n",
       "      <td>23</td>\n",
       "    </tr>\n",
       "    <tr>\n",
       "      <th>28</th>\n",
       "      <td>2653404-2</td>\n",
       "      <td>24</td>\n",
       "    </tr>\n",
       "    <tr>\n",
       "      <th>55</th>\n",
       "      <td>project_muse_383344</td>\n",
       "      <td>24</td>\n",
       "    </tr>\n",
       "    <tr>\n",
       "      <th>1</th>\n",
       "      <td>acpq_1995_0069_0003_0485_0501&amp;pdfname=acpq_199...</td>\n",
       "      <td>29</td>\n",
       "    </tr>\n",
       "    <tr>\n",
       "      <th>26</th>\n",
       "      <td>project_muse_388443</td>\n",
       "      <td>32</td>\n",
       "    </tr>\n",
       "    <tr>\n",
       "      <th>70</th>\n",
       "      <td>ContentServer.asp-4</td>\n",
       "      <td>38</td>\n",
       "    </tr>\n",
       "    <tr>\n",
       "      <th>53</th>\n",
       "      <td>project_muse_227867</td>\n",
       "      <td>39</td>\n",
       "    </tr>\n",
       "    <tr>\n",
       "      <th>47</th>\n",
       "      <td>project_muse_391081</td>\n",
       "      <td>42</td>\n",
       "    </tr>\n",
       "    <tr>\n",
       "      <th>31</th>\n",
       "      <td>project_muse_439820</td>\n",
       "      <td>42</td>\n",
       "    </tr>\n",
       "    <tr>\n",
       "      <th>48</th>\n",
       "      <td>project_muse_388507</td>\n",
       "      <td>43</td>\n",
       "    </tr>\n",
       "    <tr>\n",
       "      <th>43</th>\n",
       "      <td>project_muse_388506</td>\n",
       "      <td>49</td>\n",
       "    </tr>\n",
       "    <tr>\n",
       "      <th>4</th>\n",
       "      <td>project_muse_383238</td>\n",
       "      <td>50</td>\n",
       "    </tr>\n",
       "    <tr>\n",
       "      <th>12</th>\n",
       "      <td>project_muse_382726</td>\n",
       "      <td>57</td>\n",
       "    </tr>\n",
       "    <tr>\n",
       "      <th>76</th>\n",
       "      <td>Kail-2008-European_Journal_of_Philosophy</td>\n",
       "      <td>72</td>\n",
       "    </tr>\n",
       "    <tr>\n",
       "      <th>69</th>\n",
       "      <td>27745095</td>\n",
       "      <td>76</td>\n",
       "    </tr>\n",
       "    <tr>\n",
       "      <th>38</th>\n",
       "      <td>project_muse_228761</td>\n",
       "      <td>88</td>\n",
       "    </tr>\n",
       "    <tr>\n",
       "      <th>36</th>\n",
       "      <td>project_muse_403836</td>\n",
       "      <td>93</td>\n",
       "    </tr>\n",
       "    <tr>\n",
       "      <th>37</th>\n",
       "      <td>40232176</td>\n",
       "      <td>107</td>\n",
       "    </tr>\n",
       "    <tr>\n",
       "      <th>24</th>\n",
       "      <td>31448-231447-1-PB</td>\n",
       "      <td>109</td>\n",
       "    </tr>\n",
       "    <tr>\n",
       "      <th>67</th>\n",
       "      <td>9780470776377.ch8</td>\n",
       "      <td>114</td>\n",
       "    </tr>\n",
       "    <tr>\n",
       "      <th>66</th>\n",
       "      <td>project_muse_383386</td>\n",
       "      <td>124</td>\n",
       "    </tr>\n",
       "    <tr>\n",
       "      <th>2</th>\n",
       "      <td>project_muse_596651</td>\n",
       "      <td>128</td>\n",
       "    </tr>\n",
       "    <tr>\n",
       "      <th>19</th>\n",
       "      <td>out</td>\n",
       "      <td>196</td>\n",
       "    </tr>\n",
       "    <tr>\n",
       "      <th>44</th>\n",
       "      <td>project_muse_553401</td>\n",
       "      <td>241</td>\n",
       "    </tr>\n",
       "    <tr>\n",
       "      <th>51</th>\n",
       "      <td>533Cottrell</td>\n",
       "      <td>341</td>\n",
       "    </tr>\n",
       "  </tbody>\n",
       "</table>\n",
       "</div>"
      ],
      "text/plain": [
       "                                              Article  Cite Count\n",
       "45               2239-Article Text-2582-1-10-20140925           1\n",
       "49                                project_muse_511194           1\n",
       "34                                project_muse_389389           1\n",
       "5                                            20126883           1\n",
       "7                                 project_muse_382681           1\n",
       "11                                              fshow           1\n",
       "18                      acpq_1990_0064_0002_0233_0247           1\n",
       "30     Levin2007_Article_BundlingHumeWithKripkenstein           4\n",
       "17                                project_muse_388509           4\n",
       "39                                            2660181           4\n",
       "27  ipq_2004_0044_0002_0276_0278&pdfname=ipq_2004_...           5\n",
       "78                                ContentServer.asp-3           6\n",
       "64  Projection and Realism in Hume's Philosophy co...           7\n",
       "25                                           20708617           7\n",
       "58                                ContentServer.asp-6          11\n",
       "81                                project_muse_390704          12\n",
       "13                                          pq21-0324          13\n",
       "54                                project_muse_388510          15\n",
       "9                    WINKLER-2010-Philosophical_Books          16\n",
       "60  Flage_et_al-1984-The_Southern_Journal_of_Philo...          17\n",
       "56                                project_muse_382933          18\n",
       "6                                            20532746          18\n",
       "21                 Schwerin2012_Article_HumeOnTheSelf          18\n",
       "3                                             2184977          19\n",
       "79                                           24439665          21\n",
       "71                                           41441496          23\n",
       "28                                          2653404-2          24\n",
       "55                                project_muse_383344          24\n",
       "1   acpq_1995_0069_0003_0485_0501&pdfname=acpq_199...          29\n",
       "26                                project_muse_388443          32\n",
       "70                                ContentServer.asp-4          38\n",
       "53                                project_muse_227867          39\n",
       "47                                project_muse_391081          42\n",
       "31                                project_muse_439820          42\n",
       "48                                project_muse_388507          43\n",
       "43                                project_muse_388506          49\n",
       "4                                 project_muse_383238          50\n",
       "12                                project_muse_382726          57\n",
       "76           Kail-2008-European_Journal_of_Philosophy          72\n",
       "69                                           27745095          76\n",
       "38                                project_muse_228761          88\n",
       "36                                project_muse_403836          93\n",
       "37                                           40232176         107\n",
       "24                                  31448-231447-1-PB         109\n",
       "67                                  9780470776377.ch8         114\n",
       "66                                project_muse_383386         124\n",
       "2                                 project_muse_596651         128\n",
       "19                                                out         196\n",
       "44                                project_muse_553401         241\n",
       "51                                        533Cottrell         341"
      ]
     },
     "execution_count": 368,
     "metadata": {},
     "output_type": "execute_result"
    }
   ],
   "source": [
    "cite_counter.drop(index=zero_rows.index).sort_values('Cite Count')"
   ]
  },
  {
   "cell_type": "code",
   "execution_count": 375,
   "metadata": {},
   "outputs": [],
   "source": [
    "no_zeroes = cite_counter.drop(index=zero_rows.index).sort_values('Cite Count')"
   ]
  },
  {
   "cell_type": "code",
   "execution_count": 377,
   "metadata": {},
   "outputs": [
    {
     "data": {
      "text/plain": [
       "45      1\n",
       "49      1\n",
       "34      1\n",
       "5       1\n",
       "7       1\n",
       "11      1\n",
       "18      1\n",
       "30      4\n",
       "17      4\n",
       "39      4\n",
       "27      5\n",
       "78      6\n",
       "64      7\n",
       "25      7\n",
       "58     11\n",
       "81     12\n",
       "13     13\n",
       "54     15\n",
       "9      16\n",
       "60     17\n",
       "56     18\n",
       "6      18\n",
       "21     18\n",
       "3      19\n",
       "79     21\n",
       "71     23\n",
       "28     24\n",
       "55     24\n",
       "1      29\n",
       "26     32\n",
       "70     38\n",
       "53     39\n",
       "47     42\n",
       "31     42\n",
       "48     43\n",
       "43     49\n",
       "4      50\n",
       "12     57\n",
       "76     72\n",
       "69     76\n",
       "38     88\n",
       "36     93\n",
       "37    107\n",
       "24    109\n",
       "67    114\n",
       "66    124\n",
       "2     128\n",
       "19    196\n",
       "44    241\n",
       "51    341\n",
       "Name: Cite Count, dtype: int64"
      ]
     },
     "execution_count": 377,
     "metadata": {},
     "output_type": "execute_result"
    }
   ],
   "source": [
    "no_zeroes['Cite Count']"
   ]
  },
  {
   "cell_type": "code",
   "execution_count": 378,
   "metadata": {},
   "outputs": [
    {
     "data": {
      "text/plain": [
       "Index(['filename', 'title', 'author', 'year', 'citation order',\n",
       "       'citation text', 'citation scoring'],\n",
       "      dtype='object')"
      ]
     },
     "execution_count": 378,
     "metadata": {},
     "output_type": "execute_result"
    }
   ],
   "source": [
    "cd = pd.read_csv('/Users/matt/github/Personal-Identity-in-the-Treatise/data_out/citation_data.csv')\n",
    "cd.columns"
   ]
  },
  {
   "cell_type": "code",
   "execution_count": 380,
   "metadata": {},
   "outputs": [],
   "source": [
    "successful_search_dict = {}\n",
    "for filename in cd['filename'].values:\n",
    "    if not(filename in successful_search_dict.keys()):\n",
    "        successful_search_dict[filename] = 0\n",
    "    successful_search_dict[filename] += 1"
   ]
  },
  {
   "cell_type": "code",
   "execution_count": 381,
   "metadata": {},
   "outputs": [
    {
     "name": "stdout",
     "output_type": "stream",
     "text": [
      "52\n"
     ]
    }
   ],
   "source": [
    "counter = 0\n",
    "for file in successful_search_dict.keys():\n",
    "    counter +=1 \n",
    "print(counter)"
   ]
  },
  {
   "cell_type": "code",
   "execution_count": 372,
   "metadata": {},
   "outputs": [],
   "source": [
    "cd_dict = pd.DataFrame.from_dict(successful_search_dict, orient='index')"
   ]
  },
  {
   "cell_type": "code",
   "execution_count": 379,
   "metadata": {},
   "outputs": [
    {
     "data": {
      "text/plain": [
       "2422"
      ]
     },
     "execution_count": 379,
     "metadata": {},
     "output_type": "execute_result"
    }
   ],
   "source": [
    "cd['filename'].count()"
   ]
  },
  {
   "cell_type": "code",
   "execution_count": null,
   "metadata": {},
   "outputs": [],
   "source": []
  }
 ],
 "metadata": {
  "kernelspec": {
   "display_name": "Python 3",
   "language": "python",
   "name": "python3"
  },
  "language_info": {
   "codemirror_mode": {
    "name": "ipython",
    "version": 3
   },
   "file_extension": ".py",
   "mimetype": "text/x-python",
   "name": "python",
   "nbconvert_exporter": "python",
   "pygments_lexer": "ipython3",
   "version": "3.8.2"
  }
 },
 "nbformat": 4,
 "nbformat_minor": 4
}
